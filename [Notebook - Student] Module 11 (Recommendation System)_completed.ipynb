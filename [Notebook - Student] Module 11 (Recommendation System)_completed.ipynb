{
  "cells": [
    {
      "cell_type": "markdown",
      "metadata": {
        "id": "0bETntj8CM5V"
      },
      "source": [
        "# Shopping Basket Recommendation System with Python"
      ]
    },
    {
      "cell_type": "markdown",
      "metadata": {
        "id": "0gZSkZNcCM5W"
      },
      "source": [
        "## Introduction\n",
        "\n",
        "Artificial intelligence is commonly used in various trade circles to automate processes, gather insights on business, and speed up processes. You will use Python to study the usage of artificial intelligence in real-life scenarios - how AI actually impacts businesses.\n",
        "\n",
        "Shopping basket basically contains a list of items bought by a person. A collection of such lists can be very informative for a shop since the data would indicate information like which products are in demand, what products are seasonal, etc. Businesses can identify which products need to be focused on and make recommendation based on the analysis. Shopping basket recommendation is the case where we can use AI to study the shopping list of a person and suggest to that person some things that he is likely to buy.\n",
        "\n",
        "In this notebook, we will focus on shopping basket recommendation system using the KNN Model.\n",
        "\n",
        "## Context\n",
        "\n",
        "We will be working with Amazon product reviews, obtained from [Kaggle](https://www.kaggle.com/saurav9786/recommender-system-using-amazon-reviews/data?select=ratings_Electronics+%281%29.csv). Kaggle is a platform for data enthusiasts to gather, share knowledge and compete for many prizes!\n",
        "\n",
        "\n",
        "\n",
        "## Customer Review Data\n",
        "\n",
        "Big e-commerce companies like Amazon and Walmart deal with millions and millions of customers every day. The customers browse for products, buy them and sometimes leave reviews. Given that, the customer is the most important element for e-commerce companies; keeping them satisfied is primary.\n",
        "\n",
        "Imagine that you know the shopping history of customers - what they buy and what are their preferences. You can use this information to your advantage by predicting what they might want to buy in the future and suggesting those things.\n"
      ]
    },
    {
      "cell_type": "markdown",
      "metadata": {
        "id": "zjdt7w7aCM5X"
      },
      "source": [
        "### Side note: What is KNN?\n",
        "\n",
        "KNN (K-Nearest Neighbors) is an algorithm used for both classification and regression. It assumes that similar things exist nearby, just like the saying, \"Birds of a feather flock together.\" KNN algorithm classifies a new data point based on the class of its nearest neighbors, specifically k number of them. k denotes the number of nearest neighbors that helps in deciding the class of an object. The following diagram would make it clear:\n",
        "\n",
        "\n",
        "![Knn where k = 3](https://cambridgecoding.files.wordpress.com/2016/01/knn2.jpg)"
      ]
    },
    {
      "cell_type": "markdown",
      "metadata": {
        "id": "n3ghQNi9CM5X"
      },
      "source": [
        "## Use Python to open csv files\n",
        "\n",
        "We will use the [pandas](https://pandas.pydata.org/), [matplotlib](https://matplotlib.org/) and [scikit-learn](https://scikit-learn.org/stable/) libraries to work with our dataset. Pandas is a popular Python library for data science. It offers powerful and flexible data structures to make data manipulation and analysis easier. Scikit-learn is a very useful machine learning library that provides efficient tools for predictive data analysis. Matplotlib is a Python 2D plotting library that we can use to produce high quality data visualization. It is highly usable (as you will soon find out); you can create simple and complex graphs with just a few lines of codes!\n",
        "\n",
        "## Import Libraries\n"
      ]
    },
    {
      "cell_type": "code",
      "execution_count": 1,
      "metadata": {
        "id": "rMCfX7RiCM5X"
      },
      "outputs": [],
      "source": [
        "import numpy as np\n",
        "import pandas as pd\n",
        "import matplotlib.pyplot as plt\n",
        "import seaborn as sns\n",
        "from sklearn.metrics.pairwise import cosine_similarity\n",
        "from sklearn.model_selection import train_test_split\n",
        "from sklearn.neighbors import NearestNeighbors\n",
        "import joblib\n",
        "import scipy.sparse\n",
        "from scipy.sparse import csr_matrix\n",
        "from scipy.sparse.linalg import svds\n",
        "%matplotlib inline"
      ]
    },
    {
      "cell_type": "markdown",
      "metadata": {
        "id": "C1-KYZQnCM5Y"
      },
      "source": [
        "Now that we have imported the libraries, let's start by reading the csv file."
      ]
    },
    {
      "cell_type": "code",
      "execution_count": 2,
      "metadata": {
        "id": "maL3rZgfCM5Y"
      },
      "outputs": [],
      "source": [
        "electronics_data=pd.read_csv(r\"https://raw.githubusercontent.com/tvlaz2020/cis230Week5/main/Recommendation.csv\",\n",
        "                             names=['userId', 'productId','Rating','timestamp'])"
      ]
    },
    {
      "cell_type": "markdown",
      "metadata": {
        "id": "kydAwyHBCM5Z"
      },
      "source": [
        "Let's explore our data to see how it looks like."
      ]
    },
    {
      "cell_type": "code",
      "execution_count": 7,
      "metadata": {
        "colab": {
          "base_uri": "https://localhost:8080/",
          "height": 206
        },
        "id": "f21hdeoXCM5Z",
        "outputId": "0b3e31d8-452f-4748-e95f-6e9eb6c9967e"
      },
      "outputs": [
        {
          "output_type": "execute_result",
          "data": {
            "text/plain": [
              "           userId   productId  Rating   timestamp\n",
              "0   AKM1MP6P0OYPR  0132793040       5  1365811200\n",
              "1  A2CX7LUOHB2NDG  0321732944       5  1341100800\n",
              "2  A2NWSAGRHCP8N5  0439886341       1  1367193600\n",
              "3  A2WNBOD3WNDNKT  0439886341       3  1374451200\n",
              "4  A1GI0U4ZRJA8WN  0439886341       1  1334707200"
            ],
            "text/html": [
              "\n",
              "  <div id=\"df-565b13c5-3986-4f2d-b828-70c7ad404806\" class=\"colab-df-container\">\n",
              "    <div>\n",
              "<style scoped>\n",
              "    .dataframe tbody tr th:only-of-type {\n",
              "        vertical-align: middle;\n",
              "    }\n",
              "\n",
              "    .dataframe tbody tr th {\n",
              "        vertical-align: top;\n",
              "    }\n",
              "\n",
              "    .dataframe thead th {\n",
              "        text-align: right;\n",
              "    }\n",
              "</style>\n",
              "<table border=\"1\" class=\"dataframe\">\n",
              "  <thead>\n",
              "    <tr style=\"text-align: right;\">\n",
              "      <th></th>\n",
              "      <th>userId</th>\n",
              "      <th>productId</th>\n",
              "      <th>Rating</th>\n",
              "      <th>timestamp</th>\n",
              "    </tr>\n",
              "  </thead>\n",
              "  <tbody>\n",
              "    <tr>\n",
              "      <th>0</th>\n",
              "      <td>AKM1MP6P0OYPR</td>\n",
              "      <td>0132793040</td>\n",
              "      <td>5</td>\n",
              "      <td>1365811200</td>\n",
              "    </tr>\n",
              "    <tr>\n",
              "      <th>1</th>\n",
              "      <td>A2CX7LUOHB2NDG</td>\n",
              "      <td>0321732944</td>\n",
              "      <td>5</td>\n",
              "      <td>1341100800</td>\n",
              "    </tr>\n",
              "    <tr>\n",
              "      <th>2</th>\n",
              "      <td>A2NWSAGRHCP8N5</td>\n",
              "      <td>0439886341</td>\n",
              "      <td>1</td>\n",
              "      <td>1367193600</td>\n",
              "    </tr>\n",
              "    <tr>\n",
              "      <th>3</th>\n",
              "      <td>A2WNBOD3WNDNKT</td>\n",
              "      <td>0439886341</td>\n",
              "      <td>3</td>\n",
              "      <td>1374451200</td>\n",
              "    </tr>\n",
              "    <tr>\n",
              "      <th>4</th>\n",
              "      <td>A1GI0U4ZRJA8WN</td>\n",
              "      <td>0439886341</td>\n",
              "      <td>1</td>\n",
              "      <td>1334707200</td>\n",
              "    </tr>\n",
              "  </tbody>\n",
              "</table>\n",
              "</div>\n",
              "    <div class=\"colab-df-buttons\">\n",
              "\n",
              "  <div class=\"colab-df-container\">\n",
              "    <button class=\"colab-df-convert\" onclick=\"convertToInteractive('df-565b13c5-3986-4f2d-b828-70c7ad404806')\"\n",
              "            title=\"Convert this dataframe to an interactive table.\"\n",
              "            style=\"display:none;\">\n",
              "\n",
              "  <svg xmlns=\"http://www.w3.org/2000/svg\" height=\"24px\" viewBox=\"0 -960 960 960\">\n",
              "    <path d=\"M120-120v-720h720v720H120Zm60-500h600v-160H180v160Zm220 220h160v-160H400v160Zm0 220h160v-160H400v160ZM180-400h160v-160H180v160Zm440 0h160v-160H620v160ZM180-180h160v-160H180v160Zm440 0h160v-160H620v160Z\"/>\n",
              "  </svg>\n",
              "    </button>\n",
              "\n",
              "  <style>\n",
              "    .colab-df-container {\n",
              "      display:flex;\n",
              "      gap: 12px;\n",
              "    }\n",
              "\n",
              "    .colab-df-convert {\n",
              "      background-color: #E8F0FE;\n",
              "      border: none;\n",
              "      border-radius: 50%;\n",
              "      cursor: pointer;\n",
              "      display: none;\n",
              "      fill: #1967D2;\n",
              "      height: 32px;\n",
              "      padding: 0 0 0 0;\n",
              "      width: 32px;\n",
              "    }\n",
              "\n",
              "    .colab-df-convert:hover {\n",
              "      background-color: #E2EBFA;\n",
              "      box-shadow: 0px 1px 2px rgba(60, 64, 67, 0.3), 0px 1px 3px 1px rgba(60, 64, 67, 0.15);\n",
              "      fill: #174EA6;\n",
              "    }\n",
              "\n",
              "    .colab-df-buttons div {\n",
              "      margin-bottom: 4px;\n",
              "    }\n",
              "\n",
              "    [theme=dark] .colab-df-convert {\n",
              "      background-color: #3B4455;\n",
              "      fill: #D2E3FC;\n",
              "    }\n",
              "\n",
              "    [theme=dark] .colab-df-convert:hover {\n",
              "      background-color: #434B5C;\n",
              "      box-shadow: 0px 1px 3px 1px rgba(0, 0, 0, 0.15);\n",
              "      filter: drop-shadow(0px 1px 2px rgba(0, 0, 0, 0.3));\n",
              "      fill: #FFFFFF;\n",
              "    }\n",
              "  </style>\n",
              "\n",
              "    <script>\n",
              "      const buttonEl =\n",
              "        document.querySelector('#df-565b13c5-3986-4f2d-b828-70c7ad404806 button.colab-df-convert');\n",
              "      buttonEl.style.display =\n",
              "        google.colab.kernel.accessAllowed ? 'block' : 'none';\n",
              "\n",
              "      async function convertToInteractive(key) {\n",
              "        const element = document.querySelector('#df-565b13c5-3986-4f2d-b828-70c7ad404806');\n",
              "        const dataTable =\n",
              "          await google.colab.kernel.invokeFunction('convertToInteractive',\n",
              "                                                    [key], {});\n",
              "        if (!dataTable) return;\n",
              "\n",
              "        const docLinkHtml = 'Like what you see? Visit the ' +\n",
              "          '<a target=\"_blank\" href=https://colab.research.google.com/notebooks/data_table.ipynb>data table notebook</a>'\n",
              "          + ' to learn more about interactive tables.';\n",
              "        element.innerHTML = '';\n",
              "        dataTable['output_type'] = 'display_data';\n",
              "        await google.colab.output.renderOutput(dataTable, element);\n",
              "        const docLink = document.createElement('div');\n",
              "        docLink.innerHTML = docLinkHtml;\n",
              "        element.appendChild(docLink);\n",
              "      }\n",
              "    </script>\n",
              "  </div>\n",
              "\n",
              "\n",
              "<div id=\"df-e11d97e0-2b47-4773-87bc-3a949e966e2e\">\n",
              "  <button class=\"colab-df-quickchart\" onclick=\"quickchart('df-e11d97e0-2b47-4773-87bc-3a949e966e2e')\"\n",
              "            title=\"Suggest charts\"\n",
              "            style=\"display:none;\">\n",
              "\n",
              "<svg xmlns=\"http://www.w3.org/2000/svg\" height=\"24px\"viewBox=\"0 0 24 24\"\n",
              "     width=\"24px\">\n",
              "    <g>\n",
              "        <path d=\"M19 3H5c-1.1 0-2 .9-2 2v14c0 1.1.9 2 2 2h14c1.1 0 2-.9 2-2V5c0-1.1-.9-2-2-2zM9 17H7v-7h2v7zm4 0h-2V7h2v10zm4 0h-2v-4h2v4z\"/>\n",
              "    </g>\n",
              "</svg>\n",
              "  </button>\n",
              "\n",
              "<style>\n",
              "  .colab-df-quickchart {\n",
              "      --bg-color: #E8F0FE;\n",
              "      --fill-color: #1967D2;\n",
              "      --hover-bg-color: #E2EBFA;\n",
              "      --hover-fill-color: #174EA6;\n",
              "      --disabled-fill-color: #AAA;\n",
              "      --disabled-bg-color: #DDD;\n",
              "  }\n",
              "\n",
              "  [theme=dark] .colab-df-quickchart {\n",
              "      --bg-color: #3B4455;\n",
              "      --fill-color: #D2E3FC;\n",
              "      --hover-bg-color: #434B5C;\n",
              "      --hover-fill-color: #FFFFFF;\n",
              "      --disabled-bg-color: #3B4455;\n",
              "      --disabled-fill-color: #666;\n",
              "  }\n",
              "\n",
              "  .colab-df-quickchart {\n",
              "    background-color: var(--bg-color);\n",
              "    border: none;\n",
              "    border-radius: 50%;\n",
              "    cursor: pointer;\n",
              "    display: none;\n",
              "    fill: var(--fill-color);\n",
              "    height: 32px;\n",
              "    padding: 0;\n",
              "    width: 32px;\n",
              "  }\n",
              "\n",
              "  .colab-df-quickchart:hover {\n",
              "    background-color: var(--hover-bg-color);\n",
              "    box-shadow: 0 1px 2px rgba(60, 64, 67, 0.3), 0 1px 3px 1px rgba(60, 64, 67, 0.15);\n",
              "    fill: var(--button-hover-fill-color);\n",
              "  }\n",
              "\n",
              "  .colab-df-quickchart-complete:disabled,\n",
              "  .colab-df-quickchart-complete:disabled:hover {\n",
              "    background-color: var(--disabled-bg-color);\n",
              "    fill: var(--disabled-fill-color);\n",
              "    box-shadow: none;\n",
              "  }\n",
              "\n",
              "  .colab-df-spinner {\n",
              "    border: 2px solid var(--fill-color);\n",
              "    border-color: transparent;\n",
              "    border-bottom-color: var(--fill-color);\n",
              "    animation:\n",
              "      spin 1s steps(1) infinite;\n",
              "  }\n",
              "\n",
              "  @keyframes spin {\n",
              "    0% {\n",
              "      border-color: transparent;\n",
              "      border-bottom-color: var(--fill-color);\n",
              "      border-left-color: var(--fill-color);\n",
              "    }\n",
              "    20% {\n",
              "      border-color: transparent;\n",
              "      border-left-color: var(--fill-color);\n",
              "      border-top-color: var(--fill-color);\n",
              "    }\n",
              "    30% {\n",
              "      border-color: transparent;\n",
              "      border-left-color: var(--fill-color);\n",
              "      border-top-color: var(--fill-color);\n",
              "      border-right-color: var(--fill-color);\n",
              "    }\n",
              "    40% {\n",
              "      border-color: transparent;\n",
              "      border-right-color: var(--fill-color);\n",
              "      border-top-color: var(--fill-color);\n",
              "    }\n",
              "    60% {\n",
              "      border-color: transparent;\n",
              "      border-right-color: var(--fill-color);\n",
              "    }\n",
              "    80% {\n",
              "      border-color: transparent;\n",
              "      border-right-color: var(--fill-color);\n",
              "      border-bottom-color: var(--fill-color);\n",
              "    }\n",
              "    90% {\n",
              "      border-color: transparent;\n",
              "      border-bottom-color: var(--fill-color);\n",
              "    }\n",
              "  }\n",
              "</style>\n",
              "\n",
              "  <script>\n",
              "    async function quickchart(key) {\n",
              "      const quickchartButtonEl =\n",
              "        document.querySelector('#' + key + ' button');\n",
              "      quickchartButtonEl.disabled = true;  // To prevent multiple clicks.\n",
              "      quickchartButtonEl.classList.add('colab-df-spinner');\n",
              "      try {\n",
              "        const charts = await google.colab.kernel.invokeFunction(\n",
              "            'suggestCharts', [key], {});\n",
              "      } catch (error) {\n",
              "        console.error('Error during call to suggestCharts:', error);\n",
              "      }\n",
              "      quickchartButtonEl.classList.remove('colab-df-spinner');\n",
              "      quickchartButtonEl.classList.add('colab-df-quickchart-complete');\n",
              "    }\n",
              "    (() => {\n",
              "      let quickchartButtonEl =\n",
              "        document.querySelector('#df-e11d97e0-2b47-4773-87bc-3a949e966e2e button');\n",
              "      quickchartButtonEl.style.display =\n",
              "        google.colab.kernel.accessAllowed ? 'block' : 'none';\n",
              "    })();\n",
              "  </script>\n",
              "</div>\n",
              "    </div>\n",
              "  </div>\n"
            ]
          },
          "metadata": {},
          "execution_count": 7
        }
      ],
      "source": [
        "electronics_data.head()"
      ]
    },
    {
      "cell_type": "markdown",
      "metadata": {
        "id": "HQASna40CM5b"
      },
      "source": [
        "### Task 1: Display the first 20 rows (11 to 20) of electronic data"
      ]
    },
    {
      "cell_type": "code",
      "execution_count": 8,
      "metadata": {
        "colab": {
          "base_uri": "https://localhost:8080/"
        },
        "id": "Pmjscz2JCM5b",
        "outputId": "306b1924-edea-467c-80fa-24b109dfc471"
      },
      "outputs": [
        {
          "output_type": "stream",
          "name": "stdout",
          "text": [
            "            userId   productId  Rating   timestamp\n",
            "0    AKM1MP6P0OYPR  0132793040       5  1365811200\n",
            "1   A2CX7LUOHB2NDG  0321732944       5  1341100800\n",
            "2   A2NWSAGRHCP8N5  0439886341       1  1367193600\n",
            "3   A2WNBOD3WNDNKT  0439886341       3  1374451200\n",
            "4   A1GI0U4ZRJA8WN  0439886341       1  1334707200\n",
            "5   A1QGNMC6O1VW39  0511189877       5  1397433600\n",
            "6   A3J3BRHTDRFJ2G  0511189877       2  1397433600\n",
            "7   A2TY0BTJOTENPG  0511189877       5  1395878400\n",
            "8   A34ATBPOK6HCHY  0511189877       5  1395532800\n",
            "9    A89DO69P0XZ27  0511189877       5  1395446400\n",
            "10   AZYNQZ94U6VDB  0511189877       5  1401321600\n",
            "11  A1DA3W4GTFXP6O  0528881469       5  1405641600\n",
            "12  A29LPQQDG7LD5J  0528881469       1  1352073600\n",
            "13   AO94DHGC771SJ  0528881469       5  1370131200\n",
            "14   AMO214LNFCEI4  0528881469       1  1290643200\n",
            "15  A28B1G1MSJ6OO1  0528881469       4  1280016000\n",
            "16  A3N7T0DY83Y4IG  0528881469       3  1283990400\n",
            "17  A1H8PY3QHMQQA0  0528881469       2  1290556800\n",
            "18   A2CPBQ5W4OGBX  0528881469       2  1277078400\n",
            "19  A265MKAR2WEH3Y  0528881469       4  1294790400\n"
          ]
        }
      ],
      "source": [
        "top20_rows = electronics_data.head(20)\n",
        "print(top20_rows)"
      ]
    },
    {
      "cell_type": "markdown",
      "metadata": {
        "id": "oba-eiImCM5b"
      },
      "source": [
        "## Getting information about dataset\n",
        "\n",
        "If we can gather information about the dynamics of the datasets, that would give us a clear picture of the dataset and guide us in dealing with it."
      ]
    },
    {
      "cell_type": "code",
      "execution_count": 9,
      "metadata": {
        "colab": {
          "base_uri": "https://localhost:8080/"
        },
        "id": "Fpmi1KKqCM5c",
        "outputId": "b5ff57cf-c783-4e57-c92d-9c2081aad047"
      },
      "outputs": [
        {
          "output_type": "execute_result",
          "data": {
            "text/plain": [
              "(563366, 4)"
            ]
          },
          "metadata": {},
          "execution_count": 9
        }
      ],
      "source": [
        "#Shape of the data\n",
        "electronics_data.shape"
      ]
    },
    {
      "cell_type": "code",
      "execution_count": 10,
      "metadata": {
        "id": "zzfIdEVmCM5c"
      },
      "outputs": [],
      "source": [
        "#Taking subset of the dataset\n",
        "electronics_data=electronics_data.iloc[:1048576,0:]"
      ]
    },
    {
      "cell_type": "code",
      "execution_count": 11,
      "metadata": {
        "colab": {
          "base_uri": "https://localhost:8080/"
        },
        "id": "y0ILbnEICM5c",
        "outputId": "1f8f6cc1-ec2e-4066-c634-71b07aa0edee"
      },
      "outputs": [
        {
          "output_type": "execute_result",
          "data": {
            "text/plain": [
              "userId       object\n",
              "productId    object\n",
              "Rating        int64\n",
              "timestamp     int64\n",
              "dtype: object"
            ]
          },
          "metadata": {},
          "execution_count": 11
        }
      ],
      "source": [
        "#Check the datatypes\n",
        "electronics_data.dtypes"
      ]
    },
    {
      "cell_type": "code",
      "execution_count": 12,
      "metadata": {
        "colab": {
          "base_uri": "https://localhost:8080/"
        },
        "id": "18MbXaWqCM5d",
        "outputId": "cd7b61df-13e9-466d-ec88-612cf02549c3"
      },
      "outputs": [
        {
          "output_type": "stream",
          "name": "stdout",
          "text": [
            "<class 'pandas.core.frame.DataFrame'>\n",
            "RangeIndex: 563366 entries, 0 to 563365\n",
            "Data columns (total 4 columns):\n",
            " #   Column     Non-Null Count   Dtype \n",
            "---  ------     --------------   ----- \n",
            " 0   userId     563366 non-null  object\n",
            " 1   productId  563366 non-null  object\n",
            " 2   Rating     563366 non-null  int64 \n",
            " 3   timestamp  563366 non-null  int64 \n",
            "dtypes: int64(2), object(2)\n",
            "memory usage: 17.2+ MB\n"
          ]
        }
      ],
      "source": [
        "electronics_data.info()"
      ]
    },
    {
      "cell_type": "code",
      "execution_count": 13,
      "metadata": {
        "colab": {
          "base_uri": "https://localhost:8080/"
        },
        "id": "zSzulgo6CM5d",
        "outputId": "400df21a-d625-4cd7-9fbc-1e10537a759a"
      },
      "outputs": [
        {
          "output_type": "execute_result",
          "data": {
            "text/plain": [
              "count    5.633660e+05\n",
              "mean     1.238426e+09\n",
              "std      1.246249e+08\n",
              "min      9.127296e+08\n",
              "25%      1.137974e+09\n",
              "50%      1.254096e+09\n",
              "75%      1.357862e+09\n",
              "max      1.406074e+09\n",
              "Name: timestamp, dtype: float64"
            ]
          },
          "metadata": {},
          "execution_count": 13
        }
      ],
      "source": [
        "electronics_data.describe()['timestamp'].T"
      ]
    },
    {
      "cell_type": "markdown",
      "metadata": {
        "id": "w9Tg4JAYCM5e"
      },
      "source": [
        "### Task 2: Display information about the Rating column in the dataset"
      ]
    },
    {
      "cell_type": "code",
      "execution_count": 16,
      "metadata": {
        "colab": {
          "base_uri": "https://localhost:8080/"
        },
        "id": "U0_Z6Uu7CM5e",
        "outputId": "4204c53b-2a23-40bf-fc56-a53598cb39a6"
      },
      "outputs": [
        {
          "output_type": "execute_result",
          "data": {
            "text/plain": [
              "count    563366.000000\n",
              "mean          3.987193\n",
              "std           1.394318\n",
              "min           1.000000\n",
              "25%           3.000000\n",
              "50%           5.000000\n",
              "75%           5.000000\n",
              "max           5.000000\n",
              "Name: Rating, dtype: float64"
            ]
          },
          "metadata": {},
          "execution_count": 16
        }
      ],
      "source": [
        "electronics_data.describe()['Rating'].T"
      ]
    },
    {
      "cell_type": "code",
      "execution_count": 17,
      "metadata": {
        "colab": {
          "base_uri": "https://localhost:8080/"
        },
        "id": "iAvOQT18CM5e",
        "outputId": "1ae1cc12-f846-42aa-9ccb-259bdb4562ec"
      },
      "outputs": [
        {
          "output_type": "stream",
          "name": "stdout",
          "text": [
            "Minimum rating is: 1\n",
            "Maximum rating is: 5\n"
          ]
        }
      ],
      "source": [
        "#Let us find the minimum and maximum ratings to find out whether ratings are in say 1-5 scale or 1-10 scale\n",
        "print('Minimum rating is: %d' %(electronics_data.Rating.min()))\n",
        "print('Maximum rating is: %d' %(electronics_data.Rating.max()))"
      ]
    },
    {
      "cell_type": "markdown",
      "metadata": {
        "id": "AYGTpMohCM5f"
      },
      "source": [
        "### Task 3: Check for missing values in the dataset\n"
      ]
    },
    {
      "cell_type": "code",
      "execution_count": 18,
      "metadata": {
        "colab": {
          "base_uri": "https://localhost:8080/",
          "height": 424
        },
        "id": "V6t4sOZMCM5f",
        "outputId": "9f8f6c9c-2189-4b82-defc-7ca0121fd2a1"
      },
      "outputs": [
        {
          "output_type": "execute_result",
          "data": {
            "text/plain": [
              "        userId  productId  Rating  timestamp\n",
              "0         True       True    True       True\n",
              "1         True       True    True       True\n",
              "2         True       True    True       True\n",
              "3         True       True    True       True\n",
              "4         True       True    True       True\n",
              "...        ...        ...     ...        ...\n",
              "563361    True       True    True       True\n",
              "563362    True       True    True       True\n",
              "563363    True       True    True       True\n",
              "563364    True       True    True       True\n",
              "563365    True       True    True       True\n",
              "\n",
              "[563366 rows x 4 columns]"
            ],
            "text/html": [
              "\n",
              "  <div id=\"df-a8061498-b9f9-4fbb-9d7b-58ddf1e3ad37\" class=\"colab-df-container\">\n",
              "    <div>\n",
              "<style scoped>\n",
              "    .dataframe tbody tr th:only-of-type {\n",
              "        vertical-align: middle;\n",
              "    }\n",
              "\n",
              "    .dataframe tbody tr th {\n",
              "        vertical-align: top;\n",
              "    }\n",
              "\n",
              "    .dataframe thead th {\n",
              "        text-align: right;\n",
              "    }\n",
              "</style>\n",
              "<table border=\"1\" class=\"dataframe\">\n",
              "  <thead>\n",
              "    <tr style=\"text-align: right;\">\n",
              "      <th></th>\n",
              "      <th>userId</th>\n",
              "      <th>productId</th>\n",
              "      <th>Rating</th>\n",
              "      <th>timestamp</th>\n",
              "    </tr>\n",
              "  </thead>\n",
              "  <tbody>\n",
              "    <tr>\n",
              "      <th>0</th>\n",
              "      <td>True</td>\n",
              "      <td>True</td>\n",
              "      <td>True</td>\n",
              "      <td>True</td>\n",
              "    </tr>\n",
              "    <tr>\n",
              "      <th>1</th>\n",
              "      <td>True</td>\n",
              "      <td>True</td>\n",
              "      <td>True</td>\n",
              "      <td>True</td>\n",
              "    </tr>\n",
              "    <tr>\n",
              "      <th>2</th>\n",
              "      <td>True</td>\n",
              "      <td>True</td>\n",
              "      <td>True</td>\n",
              "      <td>True</td>\n",
              "    </tr>\n",
              "    <tr>\n",
              "      <th>3</th>\n",
              "      <td>True</td>\n",
              "      <td>True</td>\n",
              "      <td>True</td>\n",
              "      <td>True</td>\n",
              "    </tr>\n",
              "    <tr>\n",
              "      <th>4</th>\n",
              "      <td>True</td>\n",
              "      <td>True</td>\n",
              "      <td>True</td>\n",
              "      <td>True</td>\n",
              "    </tr>\n",
              "    <tr>\n",
              "      <th>...</th>\n",
              "      <td>...</td>\n",
              "      <td>...</td>\n",
              "      <td>...</td>\n",
              "      <td>...</td>\n",
              "    </tr>\n",
              "    <tr>\n",
              "      <th>563361</th>\n",
              "      <td>True</td>\n",
              "      <td>True</td>\n",
              "      <td>True</td>\n",
              "      <td>True</td>\n",
              "    </tr>\n",
              "    <tr>\n",
              "      <th>563362</th>\n",
              "      <td>True</td>\n",
              "      <td>True</td>\n",
              "      <td>True</td>\n",
              "      <td>True</td>\n",
              "    </tr>\n",
              "    <tr>\n",
              "      <th>563363</th>\n",
              "      <td>True</td>\n",
              "      <td>True</td>\n",
              "      <td>True</td>\n",
              "      <td>True</td>\n",
              "    </tr>\n",
              "    <tr>\n",
              "      <th>563364</th>\n",
              "      <td>True</td>\n",
              "      <td>True</td>\n",
              "      <td>True</td>\n",
              "      <td>True</td>\n",
              "    </tr>\n",
              "    <tr>\n",
              "      <th>563365</th>\n",
              "      <td>True</td>\n",
              "      <td>True</td>\n",
              "      <td>True</td>\n",
              "      <td>True</td>\n",
              "    </tr>\n",
              "  </tbody>\n",
              "</table>\n",
              "<p>563366 rows × 4 columns</p>\n",
              "</div>\n",
              "    <div class=\"colab-df-buttons\">\n",
              "\n",
              "  <div class=\"colab-df-container\">\n",
              "    <button class=\"colab-df-convert\" onclick=\"convertToInteractive('df-a8061498-b9f9-4fbb-9d7b-58ddf1e3ad37')\"\n",
              "            title=\"Convert this dataframe to an interactive table.\"\n",
              "            style=\"display:none;\">\n",
              "\n",
              "  <svg xmlns=\"http://www.w3.org/2000/svg\" height=\"24px\" viewBox=\"0 -960 960 960\">\n",
              "    <path d=\"M120-120v-720h720v720H120Zm60-500h600v-160H180v160Zm220 220h160v-160H400v160Zm0 220h160v-160H400v160ZM180-400h160v-160H180v160Zm440 0h160v-160H620v160ZM180-180h160v-160H180v160Zm440 0h160v-160H620v160Z\"/>\n",
              "  </svg>\n",
              "    </button>\n",
              "\n",
              "  <style>\n",
              "    .colab-df-container {\n",
              "      display:flex;\n",
              "      gap: 12px;\n",
              "    }\n",
              "\n",
              "    .colab-df-convert {\n",
              "      background-color: #E8F0FE;\n",
              "      border: none;\n",
              "      border-radius: 50%;\n",
              "      cursor: pointer;\n",
              "      display: none;\n",
              "      fill: #1967D2;\n",
              "      height: 32px;\n",
              "      padding: 0 0 0 0;\n",
              "      width: 32px;\n",
              "    }\n",
              "\n",
              "    .colab-df-convert:hover {\n",
              "      background-color: #E2EBFA;\n",
              "      box-shadow: 0px 1px 2px rgba(60, 64, 67, 0.3), 0px 1px 3px 1px rgba(60, 64, 67, 0.15);\n",
              "      fill: #174EA6;\n",
              "    }\n",
              "\n",
              "    .colab-df-buttons div {\n",
              "      margin-bottom: 4px;\n",
              "    }\n",
              "\n",
              "    [theme=dark] .colab-df-convert {\n",
              "      background-color: #3B4455;\n",
              "      fill: #D2E3FC;\n",
              "    }\n",
              "\n",
              "    [theme=dark] .colab-df-convert:hover {\n",
              "      background-color: #434B5C;\n",
              "      box-shadow: 0px 1px 3px 1px rgba(0, 0, 0, 0.15);\n",
              "      filter: drop-shadow(0px 1px 2px rgba(0, 0, 0, 0.3));\n",
              "      fill: #FFFFFF;\n",
              "    }\n",
              "  </style>\n",
              "\n",
              "    <script>\n",
              "      const buttonEl =\n",
              "        document.querySelector('#df-a8061498-b9f9-4fbb-9d7b-58ddf1e3ad37 button.colab-df-convert');\n",
              "      buttonEl.style.display =\n",
              "        google.colab.kernel.accessAllowed ? 'block' : 'none';\n",
              "\n",
              "      async function convertToInteractive(key) {\n",
              "        const element = document.querySelector('#df-a8061498-b9f9-4fbb-9d7b-58ddf1e3ad37');\n",
              "        const dataTable =\n",
              "          await google.colab.kernel.invokeFunction('convertToInteractive',\n",
              "                                                    [key], {});\n",
              "        if (!dataTable) return;\n",
              "\n",
              "        const docLinkHtml = 'Like what you see? Visit the ' +\n",
              "          '<a target=\"_blank\" href=https://colab.research.google.com/notebooks/data_table.ipynb>data table notebook</a>'\n",
              "          + ' to learn more about interactive tables.';\n",
              "        element.innerHTML = '';\n",
              "        dataTable['output_type'] = 'display_data';\n",
              "        await google.colab.output.renderOutput(dataTable, element);\n",
              "        const docLink = document.createElement('div');\n",
              "        docLink.innerHTML = docLinkHtml;\n",
              "        element.appendChild(docLink);\n",
              "      }\n",
              "    </script>\n",
              "  </div>\n",
              "\n",
              "\n",
              "<div id=\"df-59adf875-673f-4d42-a016-dba452a5985f\">\n",
              "  <button class=\"colab-df-quickchart\" onclick=\"quickchart('df-59adf875-673f-4d42-a016-dba452a5985f')\"\n",
              "            title=\"Suggest charts\"\n",
              "            style=\"display:none;\">\n",
              "\n",
              "<svg xmlns=\"http://www.w3.org/2000/svg\" height=\"24px\"viewBox=\"0 0 24 24\"\n",
              "     width=\"24px\">\n",
              "    <g>\n",
              "        <path d=\"M19 3H5c-1.1 0-2 .9-2 2v14c0 1.1.9 2 2 2h14c1.1 0 2-.9 2-2V5c0-1.1-.9-2-2-2zM9 17H7v-7h2v7zm4 0h-2V7h2v10zm4 0h-2v-4h2v4z\"/>\n",
              "    </g>\n",
              "</svg>\n",
              "  </button>\n",
              "\n",
              "<style>\n",
              "  .colab-df-quickchart {\n",
              "      --bg-color: #E8F0FE;\n",
              "      --fill-color: #1967D2;\n",
              "      --hover-bg-color: #E2EBFA;\n",
              "      --hover-fill-color: #174EA6;\n",
              "      --disabled-fill-color: #AAA;\n",
              "      --disabled-bg-color: #DDD;\n",
              "  }\n",
              "\n",
              "  [theme=dark] .colab-df-quickchart {\n",
              "      --bg-color: #3B4455;\n",
              "      --fill-color: #D2E3FC;\n",
              "      --hover-bg-color: #434B5C;\n",
              "      --hover-fill-color: #FFFFFF;\n",
              "      --disabled-bg-color: #3B4455;\n",
              "      --disabled-fill-color: #666;\n",
              "  }\n",
              "\n",
              "  .colab-df-quickchart {\n",
              "    background-color: var(--bg-color);\n",
              "    border: none;\n",
              "    border-radius: 50%;\n",
              "    cursor: pointer;\n",
              "    display: none;\n",
              "    fill: var(--fill-color);\n",
              "    height: 32px;\n",
              "    padding: 0;\n",
              "    width: 32px;\n",
              "  }\n",
              "\n",
              "  .colab-df-quickchart:hover {\n",
              "    background-color: var(--hover-bg-color);\n",
              "    box-shadow: 0 1px 2px rgba(60, 64, 67, 0.3), 0 1px 3px 1px rgba(60, 64, 67, 0.15);\n",
              "    fill: var(--button-hover-fill-color);\n",
              "  }\n",
              "\n",
              "  .colab-df-quickchart-complete:disabled,\n",
              "  .colab-df-quickchart-complete:disabled:hover {\n",
              "    background-color: var(--disabled-bg-color);\n",
              "    fill: var(--disabled-fill-color);\n",
              "    box-shadow: none;\n",
              "  }\n",
              "\n",
              "  .colab-df-spinner {\n",
              "    border: 2px solid var(--fill-color);\n",
              "    border-color: transparent;\n",
              "    border-bottom-color: var(--fill-color);\n",
              "    animation:\n",
              "      spin 1s steps(1) infinite;\n",
              "  }\n",
              "\n",
              "  @keyframes spin {\n",
              "    0% {\n",
              "      border-color: transparent;\n",
              "      border-bottom-color: var(--fill-color);\n",
              "      border-left-color: var(--fill-color);\n",
              "    }\n",
              "    20% {\n",
              "      border-color: transparent;\n",
              "      border-left-color: var(--fill-color);\n",
              "      border-top-color: var(--fill-color);\n",
              "    }\n",
              "    30% {\n",
              "      border-color: transparent;\n",
              "      border-left-color: var(--fill-color);\n",
              "      border-top-color: var(--fill-color);\n",
              "      border-right-color: var(--fill-color);\n",
              "    }\n",
              "    40% {\n",
              "      border-color: transparent;\n",
              "      border-right-color: var(--fill-color);\n",
              "      border-top-color: var(--fill-color);\n",
              "    }\n",
              "    60% {\n",
              "      border-color: transparent;\n",
              "      border-right-color: var(--fill-color);\n",
              "    }\n",
              "    80% {\n",
              "      border-color: transparent;\n",
              "      border-right-color: var(--fill-color);\n",
              "      border-bottom-color: var(--fill-color);\n",
              "    }\n",
              "    90% {\n",
              "      border-color: transparent;\n",
              "      border-bottom-color: var(--fill-color);\n",
              "    }\n",
              "  }\n",
              "</style>\n",
              "\n",
              "  <script>\n",
              "    async function quickchart(key) {\n",
              "      const quickchartButtonEl =\n",
              "        document.querySelector('#' + key + ' button');\n",
              "      quickchartButtonEl.disabled = true;  // To prevent multiple clicks.\n",
              "      quickchartButtonEl.classList.add('colab-df-spinner');\n",
              "      try {\n",
              "        const charts = await google.colab.kernel.invokeFunction(\n",
              "            'suggestCharts', [key], {});\n",
              "      } catch (error) {\n",
              "        console.error('Error during call to suggestCharts:', error);\n",
              "      }\n",
              "      quickchartButtonEl.classList.remove('colab-df-spinner');\n",
              "      quickchartButtonEl.classList.add('colab-df-quickchart-complete');\n",
              "    }\n",
              "    (() => {\n",
              "      let quickchartButtonEl =\n",
              "        document.querySelector('#df-59adf875-673f-4d42-a016-dba452a5985f button');\n",
              "      quickchartButtonEl.style.display =\n",
              "        google.colab.kernel.accessAllowed ? 'block' : 'none';\n",
              "    })();\n",
              "  </script>\n",
              "</div>\n",
              "    </div>\n",
              "  </div>\n"
            ]
          },
          "metadata": {},
          "execution_count": 18
        }
      ],
      "source": [
        "df = pd.DataFrame(electronics_data)\n",
        "df.notnull()"
      ]
    },
    {
      "cell_type": "code",
      "execution_count": 24,
      "metadata": {
        "colab": {
          "base_uri": "https://localhost:8080/",
          "height": 236
        },
        "id": "pmCu7rPpCM5f",
        "outputId": "8f1699f9-8554-4e7b-92d7-d54a54483e03"
      },
      "outputs": [
        {
          "output_type": "error",
          "ename": "TypeError",
          "evalue": "ignored",
          "traceback": [
            "\u001b[0;31m---------------------------------------------------------------------------\u001b[0m",
            "\u001b[0;31mTypeError\u001b[0m                                 Traceback (most recent call last)",
            "\u001b[0;32m<ipython-input-24-b4a3d292d5cf>\u001b[0m in \u001b[0;36m<cell line: 3>\u001b[0;34m()\u001b[0m\n\u001b[1;32m      2\u001b[0m \u001b[0;34m\u001b[0m\u001b[0m\n\u001b[1;32m      3\u001b[0m \u001b[0;32mwith\u001b[0m \u001b[0msns\u001b[0m\u001b[0;34m.\u001b[0m\u001b[0maxes_style\u001b[0m\u001b[0;34m(\u001b[0m\u001b[0;34m'white'\u001b[0m\u001b[0;34m)\u001b[0m\u001b[0;34m:\u001b[0m\u001b[0;34m\u001b[0m\u001b[0;34m\u001b[0m\u001b[0m\n\u001b[0;32m----> 4\u001b[0;31m     \u001b[0mg\u001b[0m \u001b[0;34m=\u001b[0m \u001b[0msns\u001b[0m\u001b[0;34m.\u001b[0m\u001b[0mcatplot\u001b[0m\u001b[0;34m(\u001b[0m\u001b[0;34m\"Rating\"\u001b[0m\u001b[0;34m,\u001b[0m \u001b[0mdata\u001b[0m\u001b[0;34m=\u001b[0m\u001b[0melectronics_data\u001b[0m\u001b[0;34m,\u001b[0m \u001b[0maspect\u001b[0m\u001b[0;34m=\u001b[0m\u001b[0;36m2.0\u001b[0m\u001b[0;34m,\u001b[0m\u001b[0mkind\u001b[0m\u001b[0;34m=\u001b[0m\u001b[0;34m'count'\u001b[0m\u001b[0;34m)\u001b[0m\u001b[0;34m\u001b[0m\u001b[0;34m\u001b[0m\u001b[0m\n\u001b[0m\u001b[1;32m      5\u001b[0m     \u001b[0mg\u001b[0m\u001b[0;34m.\u001b[0m\u001b[0mset_ylabels\u001b[0m\u001b[0;34m(\u001b[0m\u001b[0;34m\"Total number of ratings\"\u001b[0m\u001b[0;34m)\u001b[0m\u001b[0;34m\u001b[0m\u001b[0;34m\u001b[0m\u001b[0m\n",
            "\u001b[0;31mTypeError\u001b[0m: catplot() got multiple values for argument 'data'"
          ]
        }
      ],
      "source": [
        "# Let us check the distribution of the rating to find out different ratings distributions\n",
        "\n",
        "with sns.axes_style('white'):\n",
        "    g = sns.catplot(\"Rating\", data=electronics_data, aspect=2.0,kind='count')\n",
        "    g.set_ylabels(\"Total number of ratings\")"
      ]
    },
    {
      "cell_type": "code",
      "execution_count": 25,
      "metadata": {
        "colab": {
          "base_uri": "https://localhost:8080/"
        },
        "id": "w-Htivz0CM5f",
        "outputId": "52dd3db5-1478-4012-908b-d3114d07811b"
      },
      "outputs": [
        {
          "output_type": "stream",
          "name": "stdout",
          "text": [
            "Total data \n",
            "--------------------------------------------------\n",
            "\n",
            "Total no of ratings : 563366\n",
            "Total No of Users   : 450798\n",
            "Total No of products  : 34015\n"
          ]
        }
      ],
      "source": [
        "print(\"Total data \")\n",
        "print(\"-\"*50)\n",
        "print(\"\\nTotal no of ratings :\",electronics_data.shape[0])\n",
        "print(\"Total No of Users   :\", len(np.unique(electronics_data.userId)))\n",
        "print(\"Total No of products  :\", len(np.unique(electronics_data.productId)))"
      ]
    },
    {
      "cell_type": "markdown",
      "metadata": {
        "id": "y2MTKJnvCM5g"
      },
      "source": [
        "## Choosing only the dataset that we are interested in.\n",
        "\n",
        "Sometimes, we do not need the complete dataset for our estimations. Not all attributes of data may be useful for the model we are building. In that case, we can safely drop those attributes. For example, we won't need the timestamp column for our estimations here as it does not help us in any way in recommending the products that users might want to buy."
      ]
    },
    {
      "cell_type": "code",
      "execution_count": 26,
      "metadata": {
        "id": "YS02zWYaCM5g"
      },
      "outputs": [],
      "source": [
        "# We are dropping the timestamp column here as we do not need it\n",
        "electronics_data.drop(['timestamp'], axis=1,inplace=True)"
      ]
    },
    {
      "cell_type": "code",
      "execution_count": 27,
      "metadata": {
        "colab": {
          "base_uri": "https://localhost:8080/"
        },
        "id": "VFunHtPRCM5g",
        "outputId": "7f7aec03-d3be-4b4d-f10c-c0d13ce42315"
      },
      "outputs": [
        {
          "output_type": "execute_result",
          "data": {
            "text/plain": [
              "userId\n",
              "A5JLAU2ARJ0BO     329\n",
              "A231WM2Z2JL0U3    248\n",
              "A25HBO5V8S8SEA    160\n",
              "AT6CZDCP4TRGA      90\n",
              "AKT8TGIT6VVZ5      90\n",
              "Name: Rating, dtype: int64"
            ]
          },
          "metadata": {},
          "execution_count": 27
        }
      ],
      "source": [
        "#Let us do an analysis of rating given by the user\n",
        "\n",
        "no_of_rated_products_per_user = electronics_data.groupby(by='userId')['Rating'].count().sort_values(ascending=False)\n",
        "\n",
        "no_of_rated_products_per_user.head()"
      ]
    },
    {
      "cell_type": "markdown",
      "metadata": {
        "id": "gh09pk6UCM5g"
      },
      "source": [
        "## Viewing the Quantile Distribution\n",
        "\n",
        "Quantile is a point where a sample is divided into equally sized groups. A median of a sorted dataset is the middle point of that set where sorted means sorted in ascending or descending order. So, a median is a quantile as it divides the dataset into 2 equal groups.\n",
        "\n",
        "![Median(Quantile example)](https://www.statisticshowto.com/wp-content/uploads/2013/09/median.png)"
      ]
    },
    {
      "cell_type": "code",
      "execution_count": 28,
      "metadata": {
        "id": "fFUCNT3-CM5h"
      },
      "outputs": [],
      "source": [
        "quantiles = no_of_rated_products_per_user.quantile(np.arange(0,1.01,0.01), interpolation='higher')"
      ]
    },
    {
      "cell_type": "code",
      "execution_count": 29,
      "metadata": {
        "colab": {
          "base_uri": "https://localhost:8080/",
          "height": 872
        },
        "id": "Fsx4VvCKCM5h",
        "outputId": "9730f472-bfb0-4fbe-9801-47d59b9aa6bb"
      },
      "outputs": [
        {
          "output_type": "display_data",
          "data": {
            "text/plain": [
              "<Figure size 1000x1000 with 1 Axes>"
            ],
            "image/png": "[encoded data removed]"
          },
          "metadata": {}
        }
      ],
      "source": [
        "plt.figure(figsize=(10,10))\n",
        "plt.title(\"Quantiles and their Values\")\n",
        "quantiles.plot()\n",
        "#We find quantiles with 0.05 difference\n",
        "plt.scatter(x=quantiles.index[::5], y=quantiles.values[::5], c='orange', label=\"quantiles with 0.05 intervals\")\n",
        "#Let us also find quantiles with 0.25 difference\n",
        "plt.scatter(x=quantiles.index[::25], y=quantiles.values[::25], c='m', label = \"quantiles with 0.25 intervals\")\n",
        "plt.ylabel('No of ratings by user')\n",
        "plt.xlabel('Value at the quantile')\n",
        "plt.legend(loc='best')\n",
        "plt.show()"
      ]
    },
    {
      "cell_type": "code",
      "execution_count": 30,
      "metadata": {
        "colab": {
          "base_uri": "https://localhost:8080/"
        },
        "id": "sDjFxCdDCM5h",
        "outputId": "1cd5f0ef-54cc-4252-cc1d-1f5f6be41914"
      },
      "outputs": [
        {
          "output_type": "stream",
          "name": "stdout",
          "text": [
            "\n",
            " No of rated product more than 50 per user : 22\n",
            "\n"
          ]
        }
      ],
      "source": [
        "print('\\n No of rated product more than 50 per user : {}\\n'.format(sum(no_of_rated_products_per_user >= 50)) )"
      ]
    },
    {
      "cell_type": "markdown",
      "metadata": {
        "id": "QdjtHbSACM5i"
      },
      "source": [
        "### Task 4: Display products where the number of users who rated is greater than 60"
      ]
    },
    {
      "cell_type": "code",
      "execution_count": 32,
      "metadata": {
        "colab": {
          "base_uri": "https://localhost:8080/"
        },
        "id": "jyKcZ4QFCM5i",
        "outputId": "e4901046-47d4-4a49-9f5d-1bfed7c6eea2"
      },
      "outputs": [
        {
          "output_type": "stream",
          "name": "stdout",
          "text": [
            "\n",
            " No of rated product more than 50 per user : 14\n",
            "\n"
          ]
        }
      ],
      "source": [
        "print('\\n No of rated product more than 50 per user : {}\\n'.format(sum(no_of_rated_products_per_user >= 60)) )"
      ]
    },
    {
      "cell_type": "markdown",
      "metadata": {
        "id": "n7qhAwavCM5i"
      },
      "source": [
        "## Getting a Final Working Dataset Based on Popularity\n",
        "\n",
        "We are importing the Surprise library which has the KNN function. We would see which products are really popular with the users and use those in recommending new items, as less popular items do not provide much intuition for recommendation.\n",
        "\n",
        "If you do not have the library installed, please do the below step in your terminal: <br>\n",
        "pip install surprise"
      ]
    },
    {
      "cell_type": "code",
      "execution_count": 46,
      "metadata": {
        "colab": {
          "base_uri": "https://localhost:8080/"
        },
        "id": "w9k0eDCxCM5i",
        "outputId": "61d430c9-eebf-475a-fe77-ac1eb0c88566"
      },
      "outputs": [
        {
          "output_type": "stream",
          "name": "stdout",
          "text": [
            "Collecting surprise\n",
            "  Using cached surprise-0.1-py2.py3-none-any.whl (1.8 kB)\n",
            "Collecting scikit-surprise (from surprise)\n",
            "  Using cached scikit-surprise-1.1.3.tar.gz (771 kB)\n",
            "  Preparing metadata (setup.py) ... \u001b[?25l\u001b[?25hdone\n",
            "Requirement already satisfied: joblib>=1.0.0 in /usr/local/lib/python3.10/dist-packages (from scikit-surprise->surprise) (1.3.2)\n",
            "Requirement already satisfied: numpy>=1.17.3 in /usr/local/lib/python3.10/dist-packages (from scikit-surprise->surprise) (1.23.5)\n",
            "Requirement already satisfied: scipy>=1.3.2 in /usr/local/lib/python3.10/dist-packages (from scikit-surprise->surprise) (1.11.3)\n",
            "Building wheels for collected packages: scikit-surprise\n",
            "  Building wheel for scikit-surprise (setup.py) ... \u001b[?25l\u001b[?25hdone\n",
            "  Created wheel for scikit-surprise: filename=scikit_surprise-1.1.3-cp310-cp310-linux_x86_64.whl size=3163488 sha256=7fd5223063da78e71625904aa37e8fab6ffff4879ed8cfad9c2f2ea6102cdf00\n",
            "  Stored in directory: /root/.cache/pip/wheels/a5/ca/a8/4e28def53797fdc4363ca4af740db15a9c2f1595ebc51fb445\n",
            "Successfully built scikit-surprise\n",
            "Installing collected packages: scikit-surprise, surprise\n",
            "Successfully installed scikit-surprise-1.1.3 surprise-0.1\n"
          ]
        }
      ],
      "source": [
        "!pip install surprise\n",
        "from surprise import KNNWithMeans\n",
        "from surprise import Dataset\n",
        "from surprise import accuracy\n",
        "from surprise import Reader\n",
        "import os\n",
        "from surprise.model_selection import train_test_split\n",
        "from sklearn.decomposition import TruncatedSVD"
      ]
    },
    {
      "cell_type": "code",
      "execution_count": 47,
      "metadata": {
        "id": "u8ri8PpSCM5j"
      },
      "outputs": [],
      "source": [
        "# POPULARITY BASED\n",
        "# Let us get the new dataframe which contains products which got more than 50 ratings\n",
        "# You should try out the case where the new dataframe contains products which have got 60 or more ratings\n",
        "new_df=electronics_data.groupby(\"productId\").filter(lambda x:x['Rating'].count() >=50)"
      ]
    },
    {
      "cell_type": "code",
      "execution_count": 48,
      "metadata": {
        "id": "-0acuiEvCM5j"
      },
      "outputs": [],
      "source": [
        "# Let us read the dataset here\n",
        "reader = Reader(rating_scale=(1, 5))\n",
        "data = Dataset.load_from_df(new_df,reader)"
      ]
    },
    {
      "cell_type": "code",
      "execution_count": 49,
      "metadata": {
        "id": "_udOmYR2CM5j"
      },
      "outputs": [],
      "source": [
        "# We are splitting the dataset here\n",
        "trainset, testset = train_test_split(data, test_size=0.3,random_state=10)"
      ]
    },
    {
      "cell_type": "code",
      "execution_count": 50,
      "metadata": {
        "colab": {
          "base_uri": "https://localhost:8080/"
        },
        "id": "yMxiXwfsCM5k",
        "outputId": "083c6331-a392-4332-94ae-7a1efdd615e1"
      },
      "outputs": [
        {
          "output_type": "stream",
          "name": "stdout",
          "text": [
            "Estimating biases using als...\n",
            "Computing the pearson_baseline similarity matrix...\n",
            "Done computing similarity matrix.\n"
          ]
        },
        {
          "output_type": "execute_result",
          "data": {
            "text/plain": [
              "<surprise.prediction_algorithms.knns.KNNWithMeans at 0x786a2331e6b0>"
            ]
          },
          "metadata": {},
          "execution_count": 50
        }
      ],
      "source": [
        "algo = KNNWithMeans(k=5, sim_options={'name': 'pearson_baseline', 'user_based': False})\n",
        "algo.fit(trainset)"
      ]
    },
    {
      "cell_type": "code",
      "execution_count": 51,
      "metadata": {
        "id": "4tLdeUDvCM5k"
      },
      "outputs": [],
      "source": [
        "# Let us run the trained model against the testset\n",
        "test_pred = algo.test(testset)"
      ]
    },
    {
      "cell_type": "markdown",
      "metadata": {
        "id": "1gSOkfTRCM5k"
      },
      "source": [
        "## Getting Accuracy\n",
        "\n",
        "Accuracy\n",
        "\n",
        "The accuracy of a machine learning algorithm is a measure of how well the algorithm is performing - how  often the algorithm classifies a data point correctly. Accuracy is given by:\n",
        "\n",
        "![Accuracy](https://miro.medium.com/max/1050/1*O5eXoV-SePhZ30AbCikXHw.png)\n",
        "\n",
        "Correlation Matrix\n",
        "\n",
        "A correlation matrix is a table that shows the relation between variables- how one vaiable changes when another variable is changed. If there are 5 variables the correlation matrix will have 5 times 5 or 25 entries, where each entry shows the correlation between two variables.\n",
        "\n",
        "RMSE\n",
        "\n",
        "RMSE stands for root mean squared error. When we are doing predictions using our machine learning models, we need to find out if our predictions are correct. RMSE is a way of measuring the error in our predictions - if our RMSE is high, our predictions are bad and vice versa."
      ]
    },
    {
      "cell_type": "code",
      "execution_count": 52,
      "metadata": {
        "colab": {
          "base_uri": "https://localhost:8080/"
        },
        "id": "N22AnJ8LCM5k",
        "outputId": "d156a420-2116-457b-824f-050c4670432a"
      },
      "outputs": [
        {
          "output_type": "stream",
          "name": "stdout",
          "text": [
            "Item-based Model : Test Set\n",
            "RMSE: 1.3379\n"
          ]
        },
        {
          "output_type": "execute_result",
          "data": {
            "text/plain": [
              "1.3378508352984646"
            ]
          },
          "metadata": {},
          "execution_count": 52
        }
      ],
      "source": [
        "#We obtain the RMSE here\n",
        "print(\"Item-based Model : Test Set\")\n",
        "accuracy.rmse(test_pred, verbose=True)"
      ]
    },
    {
      "cell_type": "markdown",
      "metadata": {
        "id": "Ym4AiJjpCM5l"
      },
      "source": [
        "Our final goal is to get a model that can predict. We could use existing user-item interactions to train a model to predict the top-5 items that might be the most suitable for a user. We will take the top 10000 recommendations and use an SVD to get the model."
      ]
    },
    {
      "cell_type": "code",
      "execution_count": 53,
      "metadata": {
        "colab": {
          "base_uri": "https://localhost:8080/",
          "height": 287
        },
        "id": "pzDaRAH_CM5l",
        "outputId": "e1691dc4-710c-4b3f-da5a-f3cafc89ea04"
      },
      "outputs": [
        {
          "output_type": "execute_result",
          "data": {
            "text/plain": [
              "productId              0972683275  1400501466  1400501520  1400501776  \\\n",
              "userId                                                                  \n",
              "A01852072Z7B68UHLI5UG           0           0           0           0   \n",
              "A0266076X6KPZ6CCHGVS            0           0           0           0   \n",
              "A0293130VTX2ZXA70JQS            5           0           0           0   \n",
              "A030530627MK66BD8V4LN           4           0           0           0   \n",
              "A0571176384K8RBNKGF8O           0           0           0           0   \n",
              "\n",
              "productId              1400532620  1400532655  140053271X  1400532736  \\\n",
              "userId                                                                  \n",
              "A01852072Z7B68UHLI5UG           0           0           0           0   \n",
              "A0266076X6KPZ6CCHGVS            0           0           0           0   \n",
              "A0293130VTX2ZXA70JQS            0           0           0           0   \n",
              "A030530627MK66BD8V4LN           0           0           0           0   \n",
              "A0571176384K8RBNKGF8O           0           0           0           0   \n",
              "\n",
              "productId              1400599997  1400698987  ...  B00000JFMK  B00000JHWX  \\\n",
              "userId                                         ...                           \n",
              "A01852072Z7B68UHLI5UG           0           0  ...           0           0   \n",
              "A0266076X6KPZ6CCHGVS            0           0  ...           0           0   \n",
              "A0293130VTX2ZXA70JQS            0           0  ...           0           0   \n",
              "A030530627MK66BD8V4LN           0           0  ...           0           0   \n",
              "A0571176384K8RBNKGF8O           0           0  ...           0           0   \n",
              "\n",
              "productId              B00000JI4F  B00000JII6  B00000JMUG  B00000JPPI  \\\n",
              "userId                                                                  \n",
              "A01852072Z7B68UHLI5UG           0           0           0           0   \n",
              "A0266076X6KPZ6CCHGVS            0           0           0           0   \n",
              "A0293130VTX2ZXA70JQS            0           0           0           0   \n",
              "A030530627MK66BD8V4LN           0           0           0           0   \n",
              "A0571176384K8RBNKGF8O           0           0           0           0   \n",
              "\n",
              "productId              B00000JSGF  B00000JYLO  B00000JYWQ  B00000K135  \n",
              "userId                                                                 \n",
              "A01852072Z7B68UHLI5UG           0           0           0           0  \n",
              "A0266076X6KPZ6CCHGVS            0           0           0           0  \n",
              "A0293130VTX2ZXA70JQS            0           0           0           0  \n",
              "A030530627MK66BD8V4LN           0           0           0           0  \n",
              "A0571176384K8RBNKGF8O           0           0           0           0  \n",
              "\n",
              "[5 rows x 76 columns]"
            ],
            "text/html": [
              "\n",
              "  <div id=\"df-9b502f43-5c5c-4b09-87e0-7eba9afa6eff\" class=\"colab-df-container\">\n",
              "    <div>\n",
              "<style scoped>\n",
              "    .dataframe tbody tr th:only-of-type {\n",
              "        vertical-align: middle;\n",
              "    }\n",
              "\n",
              "    .dataframe tbody tr th {\n",
              "        vertical-align: top;\n",
              "    }\n",
              "\n",
              "    .dataframe thead th {\n",
              "        text-align: right;\n",
              "    }\n",
              "</style>\n",
              "<table border=\"1\" class=\"dataframe\">\n",
              "  <thead>\n",
              "    <tr style=\"text-align: right;\">\n",
              "      <th>productId</th>\n",
              "      <th>0972683275</th>\n",
              "      <th>1400501466</th>\n",
              "      <th>1400501520</th>\n",
              "      <th>1400501776</th>\n",
              "      <th>1400532620</th>\n",
              "      <th>1400532655</th>\n",
              "      <th>140053271X</th>\n",
              "      <th>1400532736</th>\n",
              "      <th>1400599997</th>\n",
              "      <th>1400698987</th>\n",
              "      <th>...</th>\n",
              "      <th>B00000JFMK</th>\n",
              "      <th>B00000JHWX</th>\n",
              "      <th>B00000JI4F</th>\n",
              "      <th>B00000JII6</th>\n",
              "      <th>B00000JMUG</th>\n",
              "      <th>B00000JPPI</th>\n",
              "      <th>B00000JSGF</th>\n",
              "      <th>B00000JYLO</th>\n",
              "      <th>B00000JYWQ</th>\n",
              "      <th>B00000K135</th>\n",
              "    </tr>\n",
              "    <tr>\n",
              "      <th>userId</th>\n",
              "      <th></th>\n",
              "      <th></th>\n",
              "      <th></th>\n",
              "      <th></th>\n",
              "      <th></th>\n",
              "      <th></th>\n",
              "      <th></th>\n",
              "      <th></th>\n",
              "      <th></th>\n",
              "      <th></th>\n",
              "      <th></th>\n",
              "      <th></th>\n",
              "      <th></th>\n",
              "      <th></th>\n",
              "      <th></th>\n",
              "      <th></th>\n",
              "      <th></th>\n",
              "      <th></th>\n",
              "      <th></th>\n",
              "      <th></th>\n",
              "      <th></th>\n",
              "    </tr>\n",
              "  </thead>\n",
              "  <tbody>\n",
              "    <tr>\n",
              "      <th>A01852072Z7B68UHLI5UG</th>\n",
              "      <td>0</td>\n",
              "      <td>0</td>\n",
              "      <td>0</td>\n",
              "      <td>0</td>\n",
              "      <td>0</td>\n",
              "      <td>0</td>\n",
              "      <td>0</td>\n",
              "      <td>0</td>\n",
              "      <td>0</td>\n",
              "      <td>0</td>\n",
              "      <td>...</td>\n",
              "      <td>0</td>\n",
              "      <td>0</td>\n",
              "      <td>0</td>\n",
              "      <td>0</td>\n",
              "      <td>0</td>\n",
              "      <td>0</td>\n",
              "      <td>0</td>\n",
              "      <td>0</td>\n",
              "      <td>0</td>\n",
              "      <td>0</td>\n",
              "    </tr>\n",
              "    <tr>\n",
              "      <th>A0266076X6KPZ6CCHGVS</th>\n",
              "      <td>0</td>\n",
              "      <td>0</td>\n",
              "      <td>0</td>\n",
              "      <td>0</td>\n",
              "      <td>0</td>\n",
              "      <td>0</td>\n",
              "      <td>0</td>\n",
              "      <td>0</td>\n",
              "      <td>0</td>\n",
              "      <td>0</td>\n",
              "      <td>...</td>\n",
              "      <td>0</td>\n",
              "      <td>0</td>\n",
              "      <td>0</td>\n",
              "      <td>0</td>\n",
              "      <td>0</td>\n",
              "      <td>0</td>\n",
              "      <td>0</td>\n",
              "      <td>0</td>\n",
              "      <td>0</td>\n",
              "      <td>0</td>\n",
              "    </tr>\n",
              "    <tr>\n",
              "      <th>A0293130VTX2ZXA70JQS</th>\n",
              "      <td>5</td>\n",
              "      <td>0</td>\n",
              "      <td>0</td>\n",
              "      <td>0</td>\n",
              "      <td>0</td>\n",
              "      <td>0</td>\n",
              "      <td>0</td>\n",
              "      <td>0</td>\n",
              "      <td>0</td>\n",
              "      <td>0</td>\n",
              "      <td>...</td>\n",
              "      <td>0</td>\n",
              "      <td>0</td>\n",
              "      <td>0</td>\n",
              "      <td>0</td>\n",
              "      <td>0</td>\n",
              "      <td>0</td>\n",
              "      <td>0</td>\n",
              "      <td>0</td>\n",
              "      <td>0</td>\n",
              "      <td>0</td>\n",
              "    </tr>\n",
              "    <tr>\n",
              "      <th>A030530627MK66BD8V4LN</th>\n",
              "      <td>4</td>\n",
              "      <td>0</td>\n",
              "      <td>0</td>\n",
              "      <td>0</td>\n",
              "      <td>0</td>\n",
              "      <td>0</td>\n",
              "      <td>0</td>\n",
              "      <td>0</td>\n",
              "      <td>0</td>\n",
              "      <td>0</td>\n",
              "      <td>...</td>\n",
              "      <td>0</td>\n",
              "      <td>0</td>\n",
              "      <td>0</td>\n",
              "      <td>0</td>\n",
              "      <td>0</td>\n",
              "      <td>0</td>\n",
              "      <td>0</td>\n",
              "      <td>0</td>\n",
              "      <td>0</td>\n",
              "      <td>0</td>\n",
              "    </tr>\n",
              "    <tr>\n",
              "      <th>A0571176384K8RBNKGF8O</th>\n",
              "      <td>0</td>\n",
              "      <td>0</td>\n",
              "      <td>0</td>\n",
              "      <td>0</td>\n",
              "      <td>0</td>\n",
              "      <td>0</td>\n",
              "      <td>0</td>\n",
              "      <td>0</td>\n",
              "      <td>0</td>\n",
              "      <td>0</td>\n",
              "      <td>...</td>\n",
              "      <td>0</td>\n",
              "      <td>0</td>\n",
              "      <td>0</td>\n",
              "      <td>0</td>\n",
              "      <td>0</td>\n",
              "      <td>0</td>\n",
              "      <td>0</td>\n",
              "      <td>0</td>\n",
              "      <td>0</td>\n",
              "      <td>0</td>\n",
              "    </tr>\n",
              "  </tbody>\n",
              "</table>\n",
              "<p>5 rows × 76 columns</p>\n",
              "</div>\n",
              "    <div class=\"colab-df-buttons\">\n",
              "\n",
              "  <div class=\"colab-df-container\">\n",
              "    <button class=\"colab-df-convert\" onclick=\"convertToInteractive('df-9b502f43-5c5c-4b09-87e0-7eba9afa6eff')\"\n",
              "            title=\"Convert this dataframe to an interactive table.\"\n",
              "            style=\"display:none;\">\n",
              "\n",
              "  <svg xmlns=\"http://www.w3.org/2000/svg\" height=\"24px\" viewBox=\"0 -960 960 960\">\n",
              "    <path d=\"M120-120v-720h720v720H120Zm60-500h600v-160H180v160Zm220 220h160v-160H400v160Zm0 220h160v-160H400v160ZM180-400h160v-160H180v160Zm440 0h160v-160H620v160ZM180-180h160v-160H180v160Zm440 0h160v-160H620v160Z\"/>\n",
              "  </svg>\n",
              "    </button>\n",
              "\n",
              "  <style>\n",
              "    .colab-df-container {\n",
              "      display:flex;\n",
              "      gap: 12px;\n",
              "    }\n",
              "\n",
              "    .colab-df-convert {\n",
              "      background-color: #E8F0FE;\n",
              "      border: none;\n",
              "      border-radius: 50%;\n",
              "      cursor: pointer;\n",
              "      display: none;\n",
              "      fill: #1967D2;\n",
              "      height: 32px;\n",
              "      padding: 0 0 0 0;\n",
              "      width: 32px;\n",
              "    }\n",
              "\n",
              "    .colab-df-convert:hover {\n",
              "      background-color: #E2EBFA;\n",
              "      box-shadow: 0px 1px 2px rgba(60, 64, 67, 0.3), 0px 1px 3px 1px rgba(60, 64, 67, 0.15);\n",
              "      fill: #174EA6;\n",
              "    }\n",
              "\n",
              "    .colab-df-buttons div {\n",
              "      margin-bottom: 4px;\n",
              "    }\n",
              "\n",
              "    [theme=dark] .colab-df-convert {\n",
              "      background-color: #3B4455;\n",
              "      fill: #D2E3FC;\n",
              "    }\n",
              "\n",
              "    [theme=dark] .colab-df-convert:hover {\n",
              "      background-color: #434B5C;\n",
              "      box-shadow: 0px 1px 3px 1px rgba(0, 0, 0, 0.15);\n",
              "      filter: drop-shadow(0px 1px 2px rgba(0, 0, 0, 0.3));\n",
              "      fill: #FFFFFF;\n",
              "    }\n",
              "  </style>\n",
              "\n",
              "    <script>\n",
              "      const buttonEl =\n",
              "        document.querySelector('#df-9b502f43-5c5c-4b09-87e0-7eba9afa6eff button.colab-df-convert');\n",
              "      buttonEl.style.display =\n",
              "        google.colab.kernel.accessAllowed ? 'block' : 'none';\n",
              "\n",
              "      async function convertToInteractive(key) {\n",
              "        const element = document.querySelector('#df-9b502f43-5c5c-4b09-87e0-7eba9afa6eff');\n",
              "        const dataTable =\n",
              "          await google.colab.kernel.invokeFunction('convertToInteractive',\n",
              "                                                    [key], {});\n",
              "        if (!dataTable) return;\n",
              "\n",
              "        const docLinkHtml = 'Like what you see? Visit the ' +\n",
              "          '<a target=\"_blank\" href=https://colab.research.google.com/notebooks/data_table.ipynb>data table notebook</a>'\n",
              "          + ' to learn more about interactive tables.';\n",
              "        element.innerHTML = '';\n",
              "        dataTable['output_type'] = 'display_data';\n",
              "        await google.colab.output.renderOutput(dataTable, element);\n",
              "        const docLink = document.createElement('div');\n",
              "        docLink.innerHTML = docLinkHtml;\n",
              "        element.appendChild(docLink);\n",
              "      }\n",
              "    </script>\n",
              "  </div>\n",
              "\n",
              "\n",
              "<div id=\"df-afc6e3f0-00d3-4ae7-848b-38459e09edc9\">\n",
              "  <button class=\"colab-df-quickchart\" onclick=\"quickchart('df-afc6e3f0-00d3-4ae7-848b-38459e09edc9')\"\n",
              "            title=\"Suggest charts\"\n",
              "            style=\"display:none;\">\n",
              "\n",
              "<svg xmlns=\"http://www.w3.org/2000/svg\" height=\"24px\"viewBox=\"0 0 24 24\"\n",
              "     width=\"24px\">\n",
              "    <g>\n",
              "        <path d=\"M19 3H5c-1.1 0-2 .9-2 2v14c0 1.1.9 2 2 2h14c1.1 0 2-.9 2-2V5c0-1.1-.9-2-2-2zM9 17H7v-7h2v7zm4 0h-2V7h2v10zm4 0h-2v-4h2v4z\"/>\n",
              "    </g>\n",
              "</svg>\n",
              "  </button>\n",
              "\n",
              "<style>\n",
              "  .colab-df-quickchart {\n",
              "      --bg-color: #E8F0FE;\n",
              "      --fill-color: #1967D2;\n",
              "      --hover-bg-color: #E2EBFA;\n",
              "      --hover-fill-color: #174EA6;\n",
              "      --disabled-fill-color: #AAA;\n",
              "      --disabled-bg-color: #DDD;\n",
              "  }\n",
              "\n",
              "  [theme=dark] .colab-df-quickchart {\n",
              "      --bg-color: #3B4455;\n",
              "      --fill-color: #D2E3FC;\n",
              "      --hover-bg-color: #434B5C;\n",
              "      --hover-fill-color: #FFFFFF;\n",
              "      --disabled-bg-color: #3B4455;\n",
              "      --disabled-fill-color: #666;\n",
              "  }\n",
              "\n",
              "  .colab-df-quickchart {\n",
              "    background-color: var(--bg-color);\n",
              "    border: none;\n",
              "    border-radius: 50%;\n",
              "    cursor: pointer;\n",
              "    display: none;\n",
              "    fill: var(--fill-color);\n",
              "    height: 32px;\n",
              "    padding: 0;\n",
              "    width: 32px;\n",
              "  }\n",
              "\n",
              "  .colab-df-quickchart:hover {\n",
              "    background-color: var(--hover-bg-color);\n",
              "    box-shadow: 0 1px 2px rgba(60, 64, 67, 0.3), 0 1px 3px 1px rgba(60, 64, 67, 0.15);\n",
              "    fill: var(--button-hover-fill-color);\n",
              "  }\n",
              "\n",
              "  .colab-df-quickchart-complete:disabled,\n",
              "  .colab-df-quickchart-complete:disabled:hover {\n",
              "    background-color: var(--disabled-bg-color);\n",
              "    fill: var(--disabled-fill-color);\n",
              "    box-shadow: none;\n",
              "  }\n",
              "\n",
              "  .colab-df-spinner {\n",
              "    border: 2px solid var(--fill-color);\n",
              "    border-color: transparent;\n",
              "    border-bottom-color: var(--fill-color);\n",
              "    animation:\n",
              "      spin 1s steps(1) infinite;\n",
              "  }\n",
              "\n",
              "  @keyframes spin {\n",
              "    0% {\n",
              "      border-color: transparent;\n",
              "      border-bottom-color: var(--fill-color);\n",
              "      border-left-color: var(--fill-color);\n",
              "    }\n",
              "    20% {\n",
              "      border-color: transparent;\n",
              "      border-left-color: var(--fill-color);\n",
              "      border-top-color: var(--fill-color);\n",
              "    }\n",
              "    30% {\n",
              "      border-color: transparent;\n",
              "      border-left-color: var(--fill-color);\n",
              "      border-top-color: var(--fill-color);\n",
              "      border-right-color: var(--fill-color);\n",
              "    }\n",
              "    40% {\n",
              "      border-color: transparent;\n",
              "      border-right-color: var(--fill-color);\n",
              "      border-top-color: var(--fill-color);\n",
              "    }\n",
              "    60% {\n",
              "      border-color: transparent;\n",
              "      border-right-color: var(--fill-color);\n",
              "    }\n",
              "    80% {\n",
              "      border-color: transparent;\n",
              "      border-right-color: var(--fill-color);\n",
              "      border-bottom-color: var(--fill-color);\n",
              "    }\n",
              "    90% {\n",
              "      border-color: transparent;\n",
              "      border-bottom-color: var(--fill-color);\n",
              "    }\n",
              "  }\n",
              "</style>\n",
              "\n",
              "  <script>\n",
              "    async function quickchart(key) {\n",
              "      const quickchartButtonEl =\n",
              "        document.querySelector('#' + key + ' button');\n",
              "      quickchartButtonEl.disabled = true;  // To prevent multiple clicks.\n",
              "      quickchartButtonEl.classList.add('colab-df-spinner');\n",
              "      try {\n",
              "        const charts = await google.colab.kernel.invokeFunction(\n",
              "            'suggestCharts', [key], {});\n",
              "      } catch (error) {\n",
              "        console.error('Error during call to suggestCharts:', error);\n",
              "      }\n",
              "      quickchartButtonEl.classList.remove('colab-df-spinner');\n",
              "      quickchartButtonEl.classList.add('colab-df-quickchart-complete');\n",
              "    }\n",
              "    (() => {\n",
              "      let quickchartButtonEl =\n",
              "        document.querySelector('#df-afc6e3f0-00d3-4ae7-848b-38459e09edc9 button');\n",
              "      quickchartButtonEl.style.display =\n",
              "        google.colab.kernel.accessAllowed ? 'block' : 'none';\n",
              "    })();\n",
              "  </script>\n",
              "</div>\n",
              "    </div>\n",
              "  </div>\n"
            ]
          },
          "metadata": {},
          "execution_count": 53
        }
      ],
      "source": [
        "new_df1=new_df.head(10000)\n",
        "ratings_matrix = new_df1.pivot_table(values='Rating', index='userId', columns='productId', fill_value=0)\n",
        "ratings_matrix.head()"
      ]
    },
    {
      "cell_type": "code",
      "execution_count": 54,
      "metadata": {
        "colab": {
          "base_uri": "https://localhost:8080/",
          "height": 287
        },
        "id": "9TA4clftCM5l",
        "outputId": "72fc9c1d-0716-4d7e-aebe-2c83ab8f73e9"
      },
      "outputs": [
        {
          "output_type": "execute_result",
          "data": {
            "text/plain": [
              "userId      A01852072Z7B68UHLI5UG  A0266076X6KPZ6CCHGVS  A0293130VTX2ZXA70JQS  \\\n",
              "productId                                                                       \n",
              "0972683275                      0                     0                     5   \n",
              "1400501466                      0                     0                     0   \n",
              "1400501520                      0                     0                     0   \n",
              "1400501776                      0                     0                     0   \n",
              "1400532620                      0                     0                     0   \n",
              "\n",
              "userId      A030530627MK66BD8V4LN  A0571176384K8RBNKGF8O  \\\n",
              "productId                                                  \n",
              "0972683275                      4                      0   \n",
              "1400501466                      0                      0   \n",
              "1400501520                      0                      0   \n",
              "1400501776                      0                      0   \n",
              "1400532620                      0                      0   \n",
              "\n",
              "userId      A0590501PZ7HOWJKBGQ4  A0641581307AKT5MAOU0Q  \\\n",
              "productId                                                 \n",
              "0972683275                     0                      0   \n",
              "1400501466                     0                      0   \n",
              "1400501520                     0                      0   \n",
              "1400501776                     0                      0   \n",
              "1400532620                     0                      0   \n",
              "\n",
              "userId      A076219533YHEV2LJO988  A0821988FXKFYX53V4QG  \\\n",
              "productId                                                 \n",
              "0972683275                      0                     0   \n",
              "1400501466                      0                     0   \n",
              "1400501520                      0                     0   \n",
              "1400501776                      0                     0   \n",
              "1400532620                      0                     0   \n",
              "\n",
              "userId      A099626739FNCRNHIKBCG  ...  AZWOPBY75SGAM  AZX0ZDVAFMN78  \\\n",
              "productId                          ...                                 \n",
              "0972683275                      0  ...              0              0   \n",
              "1400501466                      0  ...              0              0   \n",
              "1400501520                      3  ...              0              0   \n",
              "1400501776                      0  ...              0              0   \n",
              "1400532620                      0  ...              0              0   \n",
              "\n",
              "userId      AZX5LAN9JEAFF  AZX7I110AF0W2  AZXKUK895VGSM  AZXP46IB63PU8  \\\n",
              "productId                                                                \n",
              "0972683275              0              0              0              0   \n",
              "1400501466              0              0              0              0   \n",
              "1400501520              0              0              0              0   \n",
              "1400501776              0              0              0              0   \n",
              "1400532620              0              0              0              0   \n",
              "\n",
              "userId      AZYTSU42BZ7TP  AZZGJ2KMWB7R  AZZMV5VT9W7Y8  AZZST8OYL5P4Q  \n",
              "productId                                                              \n",
              "0972683275              0             0              0              0  \n",
              "1400501466              0             0              0              0  \n",
              "1400501520              0             0              0              0  \n",
              "1400501776              0             0              1              0  \n",
              "1400532620              0             0              0              0  \n",
              "\n",
              "[5 rows x 9832 columns]"
            ],
            "text/html": [
              "\n",
              "  <div id=\"df-c7882a50-c9a5-48a6-ac3d-286ec1d694ef\" class=\"colab-df-container\">\n",
              "    <div>\n",
              "<style scoped>\n",
              "    .dataframe tbody tr th:only-of-type {\n",
              "        vertical-align: middle;\n",
              "    }\n",
              "\n",
              "    .dataframe tbody tr th {\n",
              "        vertical-align: top;\n",
              "    }\n",
              "\n",
              "    .dataframe thead th {\n",
              "        text-align: right;\n",
              "    }\n",
              "</style>\n",
              "<table border=\"1\" class=\"dataframe\">\n",
              "  <thead>\n",
              "    <tr style=\"text-align: right;\">\n",
              "      <th>userId</th>\n",
              "      <th>A01852072Z7B68UHLI5UG</th>\n",
              "      <th>A0266076X6KPZ6CCHGVS</th>\n",
              "      <th>A0293130VTX2ZXA70JQS</th>\n",
              "      <th>A030530627MK66BD8V4LN</th>\n",
              "      <th>A0571176384K8RBNKGF8O</th>\n",
              "      <th>A0590501PZ7HOWJKBGQ4</th>\n",
              "      <th>A0641581307AKT5MAOU0Q</th>\n",
              "      <th>A076219533YHEV2LJO988</th>\n",
              "      <th>A0821988FXKFYX53V4QG</th>\n",
              "      <th>A099626739FNCRNHIKBCG</th>\n",
              "      <th>...</th>\n",
              "      <th>AZWOPBY75SGAM</th>\n",
              "      <th>AZX0ZDVAFMN78</th>\n",
              "      <th>AZX5LAN9JEAFF</th>\n",
              "      <th>AZX7I110AF0W2</th>\n",
              "      <th>AZXKUK895VGSM</th>\n",
              "      <th>AZXP46IB63PU8</th>\n",
              "      <th>AZYTSU42BZ7TP</th>\n",
              "      <th>AZZGJ2KMWB7R</th>\n",
              "      <th>AZZMV5VT9W7Y8</th>\n",
              "      <th>AZZST8OYL5P4Q</th>\n",
              "    </tr>\n",
              "    <tr>\n",
              "      <th>productId</th>\n",
              "      <th></th>\n",
              "      <th></th>\n",
              "      <th></th>\n",
              "      <th></th>\n",
              "      <th></th>\n",
              "      <th></th>\n",
              "      <th></th>\n",
              "      <th></th>\n",
              "      <th></th>\n",
              "      <th></th>\n",
              "      <th></th>\n",
              "      <th></th>\n",
              "      <th></th>\n",
              "      <th></th>\n",
              "      <th></th>\n",
              "      <th></th>\n",
              "      <th></th>\n",
              "      <th></th>\n",
              "      <th></th>\n",
              "      <th></th>\n",
              "      <th></th>\n",
              "    </tr>\n",
              "  </thead>\n",
              "  <tbody>\n",
              "    <tr>\n",
              "      <th>0972683275</th>\n",
              "      <td>0</td>\n",
              "      <td>0</td>\n",
              "      <td>5</td>\n",
              "      <td>4</td>\n",
              "      <td>0</td>\n",
              "      <td>0</td>\n",
              "      <td>0</td>\n",
              "      <td>0</td>\n",
              "      <td>0</td>\n",
              "      <td>0</td>\n",
              "      <td>...</td>\n",
              "      <td>0</td>\n",
              "      <td>0</td>\n",
              "      <td>0</td>\n",
              "      <td>0</td>\n",
              "      <td>0</td>\n",
              "      <td>0</td>\n",
              "      <td>0</td>\n",
              "      <td>0</td>\n",
              "      <td>0</td>\n",
              "      <td>0</td>\n",
              "    </tr>\n",
              "    <tr>\n",
              "      <th>1400501466</th>\n",
              "      <td>0</td>\n",
              "      <td>0</td>\n",
              "      <td>0</td>\n",
              "      <td>0</td>\n",
              "      <td>0</td>\n",
              "      <td>0</td>\n",
              "      <td>0</td>\n",
              "      <td>0</td>\n",
              "      <td>0</td>\n",
              "      <td>0</td>\n",
              "      <td>...</td>\n",
              "      <td>0</td>\n",
              "      <td>0</td>\n",
              "      <td>0</td>\n",
              "      <td>0</td>\n",
              "      <td>0</td>\n",
              "      <td>0</td>\n",
              "      <td>0</td>\n",
              "      <td>0</td>\n",
              "      <td>0</td>\n",
              "      <td>0</td>\n",
              "    </tr>\n",
              "    <tr>\n",
              "      <th>1400501520</th>\n",
              "      <td>0</td>\n",
              "      <td>0</td>\n",
              "      <td>0</td>\n",
              "      <td>0</td>\n",
              "      <td>0</td>\n",
              "      <td>0</td>\n",
              "      <td>0</td>\n",
              "      <td>0</td>\n",
              "      <td>0</td>\n",
              "      <td>3</td>\n",
              "      <td>...</td>\n",
              "      <td>0</td>\n",
              "      <td>0</td>\n",
              "      <td>0</td>\n",
              "      <td>0</td>\n",
              "      <td>0</td>\n",
              "      <td>0</td>\n",
              "      <td>0</td>\n",
              "      <td>0</td>\n",
              "      <td>0</td>\n",
              "      <td>0</td>\n",
              "    </tr>\n",
              "    <tr>\n",
              "      <th>1400501776</th>\n",
              "      <td>0</td>\n",
              "      <td>0</td>\n",
              "      <td>0</td>\n",
              "      <td>0</td>\n",
              "      <td>0</td>\n",
              "      <td>0</td>\n",
              "      <td>0</td>\n",
              "      <td>0</td>\n",
              "      <td>0</td>\n",
              "      <td>0</td>\n",
              "      <td>...</td>\n",
              "      <td>0</td>\n",
              "      <td>0</td>\n",
              "      <td>0</td>\n",
              "      <td>0</td>\n",
              "      <td>0</td>\n",
              "      <td>0</td>\n",
              "      <td>0</td>\n",
              "      <td>0</td>\n",
              "      <td>1</td>\n",
              "      <td>0</td>\n",
              "    </tr>\n",
              "    <tr>\n",
              "      <th>1400532620</th>\n",
              "      <td>0</td>\n",
              "      <td>0</td>\n",
              "      <td>0</td>\n",
              "      <td>0</td>\n",
              "      <td>0</td>\n",
              "      <td>0</td>\n",
              "      <td>0</td>\n",
              "      <td>0</td>\n",
              "      <td>0</td>\n",
              "      <td>0</td>\n",
              "      <td>...</td>\n",
              "      <td>0</td>\n",
              "      <td>0</td>\n",
              "      <td>0</td>\n",
              "      <td>0</td>\n",
              "      <td>0</td>\n",
              "      <td>0</td>\n",
              "      <td>0</td>\n",
              "      <td>0</td>\n",
              "      <td>0</td>\n",
              "      <td>0</td>\n",
              "    </tr>\n",
              "  </tbody>\n",
              "</table>\n",
              "<p>5 rows × 9832 columns</p>\n",
              "</div>\n",
              "    <div class=\"colab-df-buttons\">\n",
              "\n",
              "  <div class=\"colab-df-container\">\n",
              "    <button class=\"colab-df-convert\" onclick=\"convertToInteractive('df-c7882a50-c9a5-48a6-ac3d-286ec1d694ef')\"\n",
              "            title=\"Convert this dataframe to an interactive table.\"\n",
              "            style=\"display:none;\">\n",
              "\n",
              "  <svg xmlns=\"http://www.w3.org/2000/svg\" height=\"24px\" viewBox=\"0 -960 960 960\">\n",
              "    <path d=\"M120-120v-720h720v720H120Zm60-500h600v-160H180v160Zm220 220h160v-160H400v160Zm0 220h160v-160H400v160ZM180-400h160v-160H180v160Zm440 0h160v-160H620v160ZM180-180h160v-160H180v160Zm440 0h160v-160H620v160Z\"/>\n",
              "  </svg>\n",
              "    </button>\n",
              "\n",
              "  <style>\n",
              "    .colab-df-container {\n",
              "      display:flex;\n",
              "      gap: 12px;\n",
              "    }\n",
              "\n",
              "    .colab-df-convert {\n",
              "      background-color: #E8F0FE;\n",
              "      border: none;\n",
              "      border-radius: 50%;\n",
              "      cursor: pointer;\n",
              "      display: none;\n",
              "      fill: #1967D2;\n",
              "      height: 32px;\n",
              "      padding: 0 0 0 0;\n",
              "      width: 32px;\n",
              "    }\n",
              "\n",
              "    .colab-df-convert:hover {\n",
              "      background-color: #E2EBFA;\n",
              "      box-shadow: 0px 1px 2px rgba(60, 64, 67, 0.3), 0px 1px 3px 1px rgba(60, 64, 67, 0.15);\n",
              "      fill: #174EA6;\n",
              "    }\n",
              "\n",
              "    .colab-df-buttons div {\n",
              "      margin-bottom: 4px;\n",
              "    }\n",
              "\n",
              "    [theme=dark] .colab-df-convert {\n",
              "      background-color: #3B4455;\n",
              "      fill: #D2E3FC;\n",
              "    }\n",
              "\n",
              "    [theme=dark] .colab-df-convert:hover {\n",
              "      background-color: #434B5C;\n",
              "      box-shadow: 0px 1px 3px 1px rgba(0, 0, 0, 0.15);\n",
              "      filter: drop-shadow(0px 1px 2px rgba(0, 0, 0, 0.3));\n",
              "      fill: #FFFFFF;\n",
              "    }\n",
              "  </style>\n",
              "\n",
              "    <script>\n",
              "      const buttonEl =\n",
              "        document.querySelector('#df-c7882a50-c9a5-48a6-ac3d-286ec1d694ef button.colab-df-convert');\n",
              "      buttonEl.style.display =\n",
              "        google.colab.kernel.accessAllowed ? 'block' : 'none';\n",
              "\n",
              "      async function convertToInteractive(key) {\n",
              "        const element = document.querySelector('#df-c7882a50-c9a5-48a6-ac3d-286ec1d694ef');\n",
              "        const dataTable =\n",
              "          await google.colab.kernel.invokeFunction('convertToInteractive',\n",
              "                                                    [key], {});\n",
              "        if (!dataTable) return;\n",
              "\n",
              "        const docLinkHtml = 'Like what you see? Visit the ' +\n",
              "          '<a target=\"_blank\" href=https://colab.research.google.com/notebooks/data_table.ipynb>data table notebook</a>'\n",
              "          + ' to learn more about interactive tables.';\n",
              "        element.innerHTML = '';\n",
              "        dataTable['output_type'] = 'display_data';\n",
              "        await google.colab.output.renderOutput(dataTable, element);\n",
              "        const docLink = document.createElement('div');\n",
              "        docLink.innerHTML = docLinkHtml;\n",
              "        element.appendChild(docLink);\n",
              "      }\n",
              "    </script>\n",
              "  </div>\n",
              "\n",
              "\n",
              "<div id=\"df-11c9069e-7f16-4334-95cc-d24d1ef0093b\">\n",
              "  <button class=\"colab-df-quickchart\" onclick=\"quickchart('df-11c9069e-7f16-4334-95cc-d24d1ef0093b')\"\n",
              "            title=\"Suggest charts\"\n",
              "            style=\"display:none;\">\n",
              "\n",
              "<svg xmlns=\"http://www.w3.org/2000/svg\" height=\"24px\"viewBox=\"0 0 24 24\"\n",
              "     width=\"24px\">\n",
              "    <g>\n",
              "        <path d=\"M19 3H5c-1.1 0-2 .9-2 2v14c0 1.1.9 2 2 2h14c1.1 0 2-.9 2-2V5c0-1.1-.9-2-2-2zM9 17H7v-7h2v7zm4 0h-2V7h2v10zm4 0h-2v-4h2v4z\"/>\n",
              "    </g>\n",
              "</svg>\n",
              "  </button>\n",
              "\n",
              "<style>\n",
              "  .colab-df-quickchart {\n",
              "      --bg-color: #E8F0FE;\n",
              "      --fill-color: #1967D2;\n",
              "      --hover-bg-color: #E2EBFA;\n",
              "      --hover-fill-color: #174EA6;\n",
              "      --disabled-fill-color: #AAA;\n",
              "      --disabled-bg-color: #DDD;\n",
              "  }\n",
              "\n",
              "  [theme=dark] .colab-df-quickchart {\n",
              "      --bg-color: #3B4455;\n",
              "      --fill-color: #D2E3FC;\n",
              "      --hover-bg-color: #434B5C;\n",
              "      --hover-fill-color: #FFFFFF;\n",
              "      --disabled-bg-color: #3B4455;\n",
              "      --disabled-fill-color: #666;\n",
              "  }\n",
              "\n",
              "  .colab-df-quickchart {\n",
              "    background-color: var(--bg-color);\n",
              "    border: none;\n",
              "    border-radius: 50%;\n",
              "    cursor: pointer;\n",
              "    display: none;\n",
              "    fill: var(--fill-color);\n",
              "    height: 32px;\n",
              "    padding: 0;\n",
              "    width: 32px;\n",
              "  }\n",
              "\n",
              "  .colab-df-quickchart:hover {\n",
              "    background-color: var(--hover-bg-color);\n",
              "    box-shadow: 0 1px 2px rgba(60, 64, 67, 0.3), 0 1px 3px 1px rgba(60, 64, 67, 0.15);\n",
              "    fill: var(--button-hover-fill-color);\n",
              "  }\n",
              "\n",
              "  .colab-df-quickchart-complete:disabled,\n",
              "  .colab-df-quickchart-complete:disabled:hover {\n",
              "    background-color: var(--disabled-bg-color);\n",
              "    fill: var(--disabled-fill-color);\n",
              "    box-shadow: none;\n",
              "  }\n",
              "\n",
              "  .colab-df-spinner {\n",
              "    border: 2px solid var(--fill-color);\n",
              "    border-color: transparent;\n",
              "    border-bottom-color: var(--fill-color);\n",
              "    animation:\n",
              "      spin 1s steps(1) infinite;\n",
              "  }\n",
              "\n",
              "  @keyframes spin {\n",
              "    0% {\n",
              "      border-color: transparent;\n",
              "      border-bottom-color: var(--fill-color);\n",
              "      border-left-color: var(--fill-color);\n",
              "    }\n",
              "    20% {\n",
              "      border-color: transparent;\n",
              "      border-left-color: var(--fill-color);\n",
              "      border-top-color: var(--fill-color);\n",
              "    }\n",
              "    30% {\n",
              "      border-color: transparent;\n",
              "      border-left-color: var(--fill-color);\n",
              "      border-top-color: var(--fill-color);\n",
              "      border-right-color: var(--fill-color);\n",
              "    }\n",
              "    40% {\n",
              "      border-color: transparent;\n",
              "      border-right-color: var(--fill-color);\n",
              "      border-top-color: var(--fill-color);\n",
              "    }\n",
              "    60% {\n",
              "      border-color: transparent;\n",
              "      border-right-color: var(--fill-color);\n",
              "    }\n",
              "    80% {\n",
              "      border-color: transparent;\n",
              "      border-right-color: var(--fill-color);\n",
              "      border-bottom-color: var(--fill-color);\n",
              "    }\n",
              "    90% {\n",
              "      border-color: transparent;\n",
              "      border-bottom-color: var(--fill-color);\n",
              "    }\n",
              "  }\n",
              "</style>\n",
              "\n",
              "  <script>\n",
              "    async function quickchart(key) {\n",
              "      const quickchartButtonEl =\n",
              "        document.querySelector('#' + key + ' button');\n",
              "      quickchartButtonEl.disabled = true;  // To prevent multiple clicks.\n",
              "      quickchartButtonEl.classList.add('colab-df-spinner');\n",
              "      try {\n",
              "        const charts = await google.colab.kernel.invokeFunction(\n",
              "            'suggestCharts', [key], {});\n",
              "      } catch (error) {\n",
              "        console.error('Error during call to suggestCharts:', error);\n",
              "      }\n",
              "      quickchartButtonEl.classList.remove('colab-df-spinner');\n",
              "      quickchartButtonEl.classList.add('colab-df-quickchart-complete');\n",
              "    }\n",
              "    (() => {\n",
              "      let quickchartButtonEl =\n",
              "        document.querySelector('#df-11c9069e-7f16-4334-95cc-d24d1ef0093b button');\n",
              "      quickchartButtonEl.style.display =\n",
              "        google.colab.kernel.accessAllowed ? 'block' : 'none';\n",
              "    })();\n",
              "  </script>\n",
              "</div>\n",
              "    </div>\n",
              "  </div>\n"
            ]
          },
          "metadata": {},
          "execution_count": 54
        }
      ],
      "source": [
        "X = ratings_matrix.T\n",
        "X.head()"
      ]
    },
    {
      "cell_type": "code",
      "execution_count": 55,
      "metadata": {
        "colab": {
          "base_uri": "https://localhost:8080/"
        },
        "id": "8zDioQsPCM5l",
        "outputId": "a749af35-295e-4a24-d019-c0cfeec94d25"
      },
      "outputs": [
        {
          "output_type": "execute_result",
          "data": {
            "text/plain": [
              "(76, 10)"
            ]
          },
          "metadata": {},
          "execution_count": 55
        }
      ],
      "source": [
        "X1 = X\n",
        "SVD = TruncatedSVD(n_components=10)\n",
        "decomposed_matrix = SVD.fit_transform(X)\n",
        "decomposed_matrix.shape"
      ]
    },
    {
      "cell_type": "markdown",
      "metadata": {
        "id": "HtZR5jg2CM5m"
      },
      "source": [
        "Finding the correlation matrix."
      ]
    },
    {
      "cell_type": "code",
      "execution_count": 56,
      "metadata": {
        "colab": {
          "base_uri": "https://localhost:8080/"
        },
        "id": "9VJBkWnYCM5m",
        "outputId": "a8a8e086-6e93-4e2e-c157-0f03093f70f9"
      },
      "outputs": [
        {
          "output_type": "execute_result",
          "data": {
            "text/plain": [
              "(76, 76)"
            ]
          },
          "metadata": {},
          "execution_count": 56
        }
      ],
      "source": [
        "correlation_matrix = np.corrcoef(decomposed_matrix)\n",
        "correlation_matrix.shape"
      ]
    },
    {
      "cell_type": "markdown",
      "metadata": {
        "id": "4KUKur3gCM5m"
      },
      "source": [
        "Suppose, we are considering the book with the id \"B00000K135\". We would find out the customer who is buying this book and recommend other books to him."
      ]
    },
    {
      "cell_type": "code",
      "execution_count": 59,
      "metadata": {
        "colab": {
          "base_uri": "https://localhost:8080/"
        },
        "id": "h4J6ZK0eCM5m",
        "outputId": "4f7a3fa6-a048-4d28-d351-ddedfb0b9804"
      },
      "outputs": [
        {
          "output_type": "execute_result",
          "data": {
            "text/plain": [
              "75"
            ]
          },
          "metadata": {},
          "execution_count": 59
        }
      ],
      "source": [
        "i = \"B00000K135\"\n",
        "\n",
        "product_names = list(X.index)\n",
        "product_ID = product_names.index(i)\n",
        "product_ID"
      ]
    },
    {
      "cell_type": "markdown",
      "metadata": {
        "id": "G3i2lo34CM5n"
      },
      "source": [
        "Top items to be recommended to the customer who buys the item \"B00000K135\"."
      ]
    },
    {
      "cell_type": "code",
      "execution_count": 58,
      "metadata": {
        "colab": {
          "base_uri": "https://localhost:8080/"
        },
        "id": "EMmUn0ZdCM5n",
        "outputId": "42b2606e-7f06-4345-d67b-f14100aebbd5"
      },
      "outputs": [
        {
          "output_type": "execute_result",
          "data": {
            "text/plain": [
              "['1400501520',\n",
              " '9573212919',\n",
              " '9625993428',\n",
              " '9888002198',\n",
              " 'B00000J05A',\n",
              " 'B00000J0D2',\n",
              " 'B00000J0D5',\n",
              " 'B00000J1SC',\n",
              " 'B00000J1U8',\n",
              " 'B00000J1UQ',\n",
              " 'B00000J1V3',\n",
              " 'B00000J3UJ',\n",
              " 'B00000J434',\n",
              " 'B00000J4FS',\n",
              " 'B00000J6WY',\n",
              " 'B00000JBHP',\n",
              " 'B00000JCT8',\n",
              " 'B00000JDHV',\n",
              " 'B00000JFE3',\n",
              " 'B00000JFIF',\n",
              " 'B00000JII6',\n",
              " 'B00000JSGF',\n",
              " 'B00000JYLO']"
            ]
          },
          "metadata": {},
          "execution_count": 58
        }
      ],
      "source": [
        "correlation_product_ID = correlation_matrix[product_ID]\n",
        "correlation_product_ID.shape\n",
        "Recommend = list(X.index[correlation_product_ID > 0.65])\n",
        "# We are removing the item already bought by the customer\n",
        "Recommend.remove(i)\n",
        "#Here we are printing the recommended items\n",
        "Recommend[0:24]"
      ]
    },
    {
      "cell_type": "markdown",
      "metadata": {
        "id": "jpLw-Bc-CM5n"
      },
      "source": [
        "### Task 5: Display recommendation for the customer who buys the item 'B00000JSGF'"
      ]
    },
    {
      "cell_type": "code",
      "execution_count": 61,
      "metadata": {
        "colab": {
          "base_uri": "https://localhost:8080/"
        },
        "id": "SEsJFxbTCM5n",
        "outputId": "58f42305-354c-47cf-f1cb-d0e5d9b9f542"
      },
      "outputs": [
        {
          "output_type": "execute_result",
          "data": {
            "text/plain": [
              "['9573212919',\n",
              " '9625993428',\n",
              " '9888002198',\n",
              " 'B00000J05A',\n",
              " 'B00000J0D2',\n",
              " 'B00000J0D5',\n",
              " 'B00000J1QR',\n",
              " 'B00000J1U8',\n",
              " 'B00000J1UQ',\n",
              " 'B00000J1V3',\n",
              " 'B00000J3NF',\n",
              " 'B00000J3UJ',\n",
              " 'B00000J434',\n",
              " 'B00000J4FS',\n",
              " 'B00000J6WY',\n",
              " 'B00000JBHP',\n",
              " 'B00000JCT8',\n",
              " 'B00000JDF6',\n",
              " 'B00000JDHV',\n",
              " 'B00000JFE3',\n",
              " 'B00000JFIF',\n",
              " 'B00000JYLO',\n",
              " 'B00000K135']"
            ]
          },
          "metadata": {},
          "execution_count": 61
        }
      ],
      "source": [
        "j = \"B00000JSGF\"\n",
        "\n",
        "product_names = list(X.index)\n",
        "product_ID = product_names.index(j)\n",
        "product_ID\n",
        "\n",
        "correlation_product_ID = correlation_matrix[product_ID]\n",
        "correlation_product_ID.shape\n",
        "Recommend = list(X.index[correlation_product_ID > 0.65])\n",
        "# We are removing the item already bought by the customer\n",
        "Recommend.remove(j)\n",
        "#Here we are printing the recommended items\n",
        "Recommend[0:24]"
      ]
    },
    {
      "cell_type": "markdown",
      "metadata": {
        "id": "4cHayjjuCM5o"
      },
      "source": [
        "\n",
        "### Task 6: Display recommendation for the customer who buys the item 'B00000JDF6'"
      ]
    },
    {
      "cell_type": "code",
      "execution_count": 64,
      "metadata": {
        "colab": {
          "base_uri": "https://localhost:8080/"
        },
        "id": "QPOXqr-rCM5o",
        "outputId": "db8ba855-24e2-424f-bf7d-44af7510fbd7"
      },
      "outputs": [
        {
          "output_type": "execute_result",
          "data": {
            "text/plain": [
              "['B00000J1U8', 'B00000JFE3', 'B00000JFIF', 'B00000JSGF', 'B00000JYLO']"
            ]
          },
          "metadata": {},
          "execution_count": 64
        }
      ],
      "source": [
        "k = \"B00000JDF6\"\n",
        "\n",
        "product_names = list(X.index)\n",
        "product_ID = product_names.index(k)\n",
        "product_ID\n",
        "\n",
        "correlation_product_ID = correlation_matrix[product_ID]\n",
        "correlation_product_ID.shape\n",
        "Recommend = list(X.index[correlation_product_ID > 0.65])\n",
        "# We are removing the item already bought by the customer\n",
        "Recommend.remove(k)\n",
        "#Here we are printing the recommended items\n",
        "Recommend[0:24]"
      ]
    },
    {
      "cell_type": "markdown",
      "metadata": {
        "id": "lETs0wKpCM5o"
      },
      "source": [
        "### Conclusion\n",
        "\n",
        "Artificial intelligence is widely used by different modern-day industries to solve their problems. Here, in this notebook we have seen an example of how artificial intelligence can be used in the e-commerce industry by recommending items to customers based on their shopping habits."
      ]
    },
    {
      "cell_type": "code",
      "execution_count": 64,
      "metadata": {
        "id": "EDl2PVBxCM5o"
      },
      "outputs": [],
      "source": []
    }
  ],
  "metadata": {
    "kernelspec": {
      "display_name": "Python 3 (ipykernel)",
      "language": "python",
      "name": "python3"
    },
    "language_info": {
      "codemirror_mode": {
        "name": "ipython",
        "version": 3
      },
      "file_extension": ".py",
      "mimetype": "text/x-python",
      "name": "python",
      "nbconvert_exporter": "python",
      "pygments_lexer": "ipython3",
      "version": "3.9.7"
    },
    "toc": {
      "base_numbering": 1,
      "nav_menu": {},
      "number_sections": true,
      "sideBar": true,
      "skip_h1_title": false,
      "title_cell": "Table of Contents",
      "title_sidebar": "Contents",
      "toc_cell": false,
      "toc_position": {},
      "toc_section_display": true,
      "toc_window_display": false
    },
    "colab": {
      "provenance": []
    }
  },
  "nbformat": 4,
  "nbformat_minor": 0
}